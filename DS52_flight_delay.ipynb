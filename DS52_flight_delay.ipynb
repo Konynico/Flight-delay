{
 "cells": [
  {
   "cell_type": "markdown",
   "id": "9c2fd01f",
   "metadata": {
    "papermill": {
     "duration": 0.009195,
     "end_time": "2023-09-10T01:32:36.955404",
     "exception": false,
     "start_time": "2023-09-10T01:32:36.946209",
     "status": "completed"
    },
    "tags": []
   },
   "source": [
    "1. Importing Datasets\n",
    "2. Data Cleaning\n",
    "3. Visulalizing pairplots\n",
    "4. Building Artificial Neural Networks\n",
    "5. Making submission file"
   ]
  },
  {
   "cell_type": "code",
   "execution_count": 1,
   "id": "aac410ac",
   "metadata": {
    "_cell_guid": "b1076dfc-b9ad-4769-8c92-a6c4dae69d19",
    "_uuid": "8f2839f25d086af736a60e9eeb907d3b93b6e0e5",
    "execution": {
     "iopub.execute_input": "2023-09-10T01:32:36.973299Z",
     "iopub.status.busy": "2023-09-10T01:32:36.972910Z",
     "iopub.status.idle": "2023-09-10T01:32:47.997938Z",
     "shell.execute_reply": "2023-09-10T01:32:47.996903Z"
    },
    "papermill": {
     "duration": 11.037084,
     "end_time": "2023-09-10T01:32:48.000572",
     "exception": false,
     "start_time": "2023-09-10T01:32:36.963488",
     "status": "completed"
    },
    "tags": []
   },
   "outputs": [],
   "source": [
    "import numpy as np\n",
    "import pandas as pd\n",
    "from sklearn.preprocessing import LabelEncoder,StandardScaler\n",
    "from sklearn.model_selection import train_test_split\n",
    "\n",
    "import seaborn as sns\n",
    "\n",
    "import tensorflow as tf\n",
    "from tensorflow import keras\n",
    "from tensorflow.keras import layers"
   ]
  },
  {
   "cell_type": "code",
   "execution_count": 2,
   "id": "c45e1b08",
   "metadata": {
    "execution": {
     "iopub.execute_input": "2023-09-10T01:32:48.099312Z",
     "iopub.status.busy": "2023-09-10T01:32:48.099012Z",
     "iopub.status.idle": "2023-09-10T01:32:48.252263Z",
     "shell.execute_reply": "2023-09-10T01:32:48.251311Z"
    },
    "papermill": {
     "duration": 0.164775,
     "end_time": "2023-09-10T01:32:48.254436",
     "exception": false,
     "start_time": "2023-09-10T01:32:48.089661",
     "status": "completed"
    },
    "tags": []
   },
   "outputs": [
    {
     "data": {
      "text/html": [
       "<div>\n",
       "<style scoped>\n",
       "    .dataframe tbody tr th:only-of-type {\n",
       "        vertical-align: middle;\n",
       "    }\n",
       "\n",
       "    .dataframe tbody tr th {\n",
       "        vertical-align: top;\n",
       "    }\n",
       "\n",
       "    .dataframe thead th {\n",
       "        text-align: right;\n",
       "    }\n",
       "</style>\n",
       "<table border=\"1\" class=\"dataframe\">\n",
       "  <thead>\n",
       "    <tr style=\"text-align: right;\">\n",
       "      <th></th>\n",
       "      <th>Month</th>\n",
       "      <th>DayofMonth</th>\n",
       "      <th>DayOfWeek</th>\n",
       "      <th>DepTime</th>\n",
       "      <th>UniqueCarrier</th>\n",
       "      <th>Origin</th>\n",
       "      <th>Dest</th>\n",
       "      <th>Distance</th>\n",
       "      <th>dep_delayed_15min</th>\n",
       "    </tr>\n",
       "  </thead>\n",
       "  <tbody>\n",
       "    <tr>\n",
       "      <th>0</th>\n",
       "      <td>c-8</td>\n",
       "      <td>c-21</td>\n",
       "      <td>c-7</td>\n",
       "      <td>1934</td>\n",
       "      <td>AA</td>\n",
       "      <td>ATL</td>\n",
       "      <td>DFW</td>\n",
       "      <td>732</td>\n",
       "      <td>N</td>\n",
       "    </tr>\n",
       "    <tr>\n",
       "      <th>1</th>\n",
       "      <td>c-4</td>\n",
       "      <td>c-20</td>\n",
       "      <td>c-3</td>\n",
       "      <td>1548</td>\n",
       "      <td>US</td>\n",
       "      <td>PIT</td>\n",
       "      <td>MCO</td>\n",
       "      <td>834</td>\n",
       "      <td>N</td>\n",
       "    </tr>\n",
       "    <tr>\n",
       "      <th>2</th>\n",
       "      <td>c-9</td>\n",
       "      <td>c-2</td>\n",
       "      <td>c-5</td>\n",
       "      <td>1422</td>\n",
       "      <td>XE</td>\n",
       "      <td>RDU</td>\n",
       "      <td>CLE</td>\n",
       "      <td>416</td>\n",
       "      <td>N</td>\n",
       "    </tr>\n",
       "  </tbody>\n",
       "</table>\n",
       "</div>"
      ],
      "text/plain": [
       "  Month DayofMonth DayOfWeek  DepTime UniqueCarrier Origin Dest  Distance  \\\n",
       "0   c-8       c-21       c-7     1934            AA    ATL  DFW       732   \n",
       "1   c-4       c-20       c-3     1548            US    PIT  MCO       834   \n",
       "2   c-9        c-2       c-5     1422            XE    RDU  CLE       416   \n",
       "\n",
       "  dep_delayed_15min  \n",
       "0                 N  \n",
       "1                 N  \n",
       "2                 N  "
      ]
     },
     "execution_count": 2,
     "metadata": {},
     "output_type": "execute_result"
    }
   ],
   "source": [
    "train = pd.read_csv(\"flight_delays_train.csv\")\n",
    "train.head(3)"
   ]
  },
  {
   "cell_type": "markdown",
   "id": "b263bb18",
   "metadata": {
    "papermill": {
     "duration": 0.008343,
     "end_time": "2023-09-10T01:32:48.271430",
     "exception": false,
     "start_time": "2023-09-10T01:32:48.263087",
     "status": "completed"
    },
    "tags": []
   },
   "source": [
    "Understanding the dataset, and confirming that any incorrect value does not exist in it by checking with total number of months etc."
   ]
  },
  {
   "cell_type": "code",
   "execution_count": 3,
   "id": "632b6154",
   "metadata": {
    "execution": {
     "iopub.execute_input": "2023-09-10T01:32:48.289799Z",
     "iopub.status.busy": "2023-09-10T01:32:48.288945Z",
     "iopub.status.idle": "2023-09-10T01:32:48.351093Z",
     "shell.execute_reply": "2023-09-10T01:32:48.349845Z"
    },
    "papermill": {
     "duration": 0.07355,
     "end_time": "2023-09-10T01:32:48.353200",
     "exception": false,
     "start_time": "2023-09-10T01:32:48.279650",
     "status": "completed"
    },
    "tags": []
   },
   "outputs": [
    {
     "name": "stdout",
     "output_type": "stream",
     "text": [
      "Columns:  Month   Unique Values:  12\n",
      "Columns:  DayofMonth   Unique Values:  31\n",
      "Columns:  DayOfWeek   Unique Values:  7\n",
      "Columns:  DepTime   Unique Values:  1300\n",
      "Columns:  UniqueCarrier   Unique Values:  22\n",
      "Columns:  Origin   Unique Values:  289\n",
      "Columns:  Dest   Unique Values:  289\n",
      "Columns:  Distance   Unique Values:  1310\n",
      "Columns:  dep_delayed_15min   Unique Values:  2\n"
     ]
    }
   ],
   "source": [
    "for col in train.columns:\n",
    "    uni = train[col].nunique()\n",
    "    print(\"Columns: \",col,\" \",\"Unique Values: \",uni)"
   ]
  },
  {
   "cell_type": "markdown",
   "id": "2d2e7a1a",
   "metadata": {
    "papermill": {
     "duration": 0.008094,
     "end_time": "2023-09-10T01:32:48.369617",
     "exception": false,
     "start_time": "2023-09-10T01:32:48.361523",
     "status": "completed"
    },
    "tags": []
   },
   "source": [
    "Checking for null values in dataset"
   ]
  },
  {
   "cell_type": "code",
   "execution_count": 4,
   "id": "bf12d3db",
   "metadata": {
    "execution": {
     "iopub.execute_input": "2023-09-10T01:32:48.387908Z",
     "iopub.status.busy": "2023-09-10T01:32:48.387250Z",
     "iopub.status.idle": "2023-09-10T01:32:48.458163Z",
     "shell.execute_reply": "2023-09-10T01:32:48.457275Z"
    },
    "papermill": {
     "duration": 0.082474,
     "end_time": "2023-09-10T01:32:48.460493",
     "exception": false,
     "start_time": "2023-09-10T01:32:48.378019",
     "status": "completed"
    },
    "tags": []
   },
   "outputs": [
    {
     "data": {
      "text/plain": [
       "Month                0\n",
       "DayofMonth           0\n",
       "DayOfWeek            0\n",
       "DepTime              0\n",
       "UniqueCarrier        0\n",
       "Origin               0\n",
       "Dest                 0\n",
       "Distance             0\n",
       "dep_delayed_15min    0\n",
       "dtype: int64"
      ]
     },
     "execution_count": 4,
     "metadata": {},
     "output_type": "execute_result"
    }
   ],
   "source": [
    "train.isnull().sum().sort_values()"
   ]
  },
  {
   "cell_type": "markdown",
   "id": "32a65e58",
   "metadata": {
    "papermill": {
     "duration": 0.008285,
     "end_time": "2023-09-10T01:32:48.477231",
     "exception": false,
     "start_time": "2023-09-10T01:32:48.468946",
     "status": "completed"
    },
    "tags": []
   },
   "source": [
    "The dataset has no null value"
   ]
  },
  {
   "cell_type": "code",
   "execution_count": 5,
   "id": "24208ff6",
   "metadata": {
    "execution": {
     "iopub.execute_input": "2023-09-10T01:32:48.554727Z",
     "iopub.status.busy": "2023-09-10T01:32:48.554437Z",
     "iopub.status.idle": "2023-09-10T01:32:48.670825Z",
     "shell.execute_reply": "2023-09-10T01:32:48.669784Z"
    },
    "papermill": {
     "duration": 0.128979,
     "end_time": "2023-09-10T01:32:48.673444",
     "exception": false,
     "start_time": "2023-09-10T01:32:48.544465",
     "status": "completed"
    },
    "tags": []
   },
   "outputs": [],
   "source": [
    "test = pd.read_csv(\"flight_delays_test.csv\")"
   ]
  },
  {
   "cell_type": "markdown",
   "id": "8ec0bc1e",
   "metadata": {
    "papermill": {
     "duration": 0.008515,
     "end_time": "2023-09-10T01:32:48.691242",
     "exception": false,
     "start_time": "2023-09-10T01:32:48.682727",
     "status": "completed"
    },
    "tags": []
   },
   "source": [
    "Removing the alphabets from Day, Month and Week columns"
   ]
  },
  {
   "cell_type": "code",
   "execution_count": 6,
   "id": "5a79054d",
   "metadata": {
    "execution": {
     "iopub.execute_input": "2023-09-10T01:32:48.711040Z",
     "iopub.status.busy": "2023-09-10T01:32:48.709523Z",
     "iopub.status.idle": "2023-09-10T01:32:50.535438Z",
     "shell.execute_reply": "2023-09-10T01:32:50.534266Z"
    },
    "papermill": {
     "duration": 1.837865,
     "end_time": "2023-09-10T01:32:50.537852",
     "exception": false,
     "start_time": "2023-09-10T01:32:48.699987",
     "status": "completed"
    },
    "tags": []
   },
   "outputs": [
    {
     "data": {
      "text/html": [
       "<div>\n",
       "<style scoped>\n",
       "    .dataframe tbody tr th:only-of-type {\n",
       "        vertical-align: middle;\n",
       "    }\n",
       "\n",
       "    .dataframe tbody tr th {\n",
       "        vertical-align: top;\n",
       "    }\n",
       "\n",
       "    .dataframe thead th {\n",
       "        text-align: right;\n",
       "    }\n",
       "</style>\n",
       "<table border=\"1\" class=\"dataframe\">\n",
       "  <thead>\n",
       "    <tr style=\"text-align: right;\">\n",
       "      <th></th>\n",
       "      <th>Month</th>\n",
       "      <th>DayofMonth</th>\n",
       "      <th>DayOfWeek</th>\n",
       "      <th>DepTime</th>\n",
       "      <th>UniqueCarrier</th>\n",
       "      <th>Origin</th>\n",
       "      <th>Dest</th>\n",
       "      <th>Distance</th>\n",
       "      <th>dep_delayed_15min</th>\n",
       "    </tr>\n",
       "  </thead>\n",
       "  <tbody>\n",
       "    <tr>\n",
       "      <th>0</th>\n",
       "      <td>8</td>\n",
       "      <td>21</td>\n",
       "      <td>7</td>\n",
       "      <td>1934</td>\n",
       "      <td>AA</td>\n",
       "      <td>ATL</td>\n",
       "      <td>DFW</td>\n",
       "      <td>732</td>\n",
       "      <td>N</td>\n",
       "    </tr>\n",
       "    <tr>\n",
       "      <th>1</th>\n",
       "      <td>4</td>\n",
       "      <td>20</td>\n",
       "      <td>3</td>\n",
       "      <td>1548</td>\n",
       "      <td>US</td>\n",
       "      <td>PIT</td>\n",
       "      <td>MCO</td>\n",
       "      <td>834</td>\n",
       "      <td>N</td>\n",
       "    </tr>\n",
       "    <tr>\n",
       "      <th>2</th>\n",
       "      <td>9</td>\n",
       "      <td>2</td>\n",
       "      <td>5</td>\n",
       "      <td>1422</td>\n",
       "      <td>XE</td>\n",
       "      <td>RDU</td>\n",
       "      <td>CLE</td>\n",
       "      <td>416</td>\n",
       "      <td>N</td>\n",
       "    </tr>\n",
       "  </tbody>\n",
       "</table>\n",
       "</div>"
      ],
      "text/plain": [
       "  Month DayofMonth DayOfWeek  DepTime UniqueCarrier Origin Dest  Distance  \\\n",
       "0     8         21         7     1934            AA    ATL  DFW       732   \n",
       "1     4         20         3     1548            US    PIT  MCO       834   \n",
       "2     9          2         5     1422            XE    RDU  CLE       416   \n",
       "\n",
       "  dep_delayed_15min  \n",
       "0                 N  \n",
       "1                 N  \n",
       "2                 N  "
      ]
     },
     "execution_count": 6,
     "metadata": {},
     "output_type": "execute_result"
    }
   ],
   "source": [
    "def clean_alpha(df):\n",
    "    df.Month = df.Month.str.extract(r\"(\\d+)\")\n",
    "    df.DayofMonth = df.DayofMonth.str.extract(r\"(\\d+)\")\n",
    "    df.DayOfWeek = df.DayOfWeek.str.extract(r\"(\\d+)\")\n",
    "\n",
    "\n",
    "clean_alpha(train)\n",
    "clean_alpha(test)\n",
    "train.head(3)"
   ]
  },
  {
   "cell_type": "markdown",
   "id": "b8263bec",
   "metadata": {
    "papermill": {
     "duration": 0.008794,
     "end_time": "2023-09-10T01:32:50.557043",
     "exception": false,
     "start_time": "2023-09-10T01:32:50.548249",
     "status": "completed"
    },
    "tags": []
   },
   "source": [
    "Encoding all the alphabets based data into numbers"
   ]
  },
  {
   "cell_type": "code",
   "execution_count": 7,
   "id": "0cb19c45",
   "metadata": {
    "execution": {
     "iopub.execute_input": "2023-09-10T01:32:50.575908Z",
     "iopub.status.busy": "2023-09-10T01:32:50.575602Z",
     "iopub.status.idle": "2023-09-10T01:32:50.783374Z",
     "shell.execute_reply": "2023-09-10T01:32:50.782360Z"
    },
    "papermill": {
     "duration": 0.219646,
     "end_time": "2023-09-10T01:32:50.785493",
     "exception": false,
     "start_time": "2023-09-10T01:32:50.565847",
     "status": "completed"
    },
    "tags": []
   },
   "outputs": [
    {
     "data": {
      "text/html": [
       "<div>\n",
       "<style scoped>\n",
       "    .dataframe tbody tr th:only-of-type {\n",
       "        vertical-align: middle;\n",
       "    }\n",
       "\n",
       "    .dataframe tbody tr th {\n",
       "        vertical-align: top;\n",
       "    }\n",
       "\n",
       "    .dataframe thead th {\n",
       "        text-align: right;\n",
       "    }\n",
       "</style>\n",
       "<table border=\"1\" class=\"dataframe\">\n",
       "  <thead>\n",
       "    <tr style=\"text-align: right;\">\n",
       "      <th></th>\n",
       "      <th>Month</th>\n",
       "      <th>DayofMonth</th>\n",
       "      <th>DayOfWeek</th>\n",
       "      <th>DepTime</th>\n",
       "      <th>UniqueCarrier</th>\n",
       "      <th>Origin</th>\n",
       "      <th>Dest</th>\n",
       "      <th>Distance</th>\n",
       "      <th>dep_delayed_15min</th>\n",
       "    </tr>\n",
       "  </thead>\n",
       "  <tbody>\n",
       "    <tr>\n",
       "      <th>0</th>\n",
       "      <td>8</td>\n",
       "      <td>21</td>\n",
       "      <td>7</td>\n",
       "      <td>1934</td>\n",
       "      <td>0</td>\n",
       "      <td>18</td>\n",
       "      <td>78</td>\n",
       "      <td>732</td>\n",
       "      <td>0</td>\n",
       "    </tr>\n",
       "    <tr>\n",
       "      <th>1</th>\n",
       "      <td>4</td>\n",
       "      <td>20</td>\n",
       "      <td>3</td>\n",
       "      <td>1548</td>\n",
       "      <td>18</td>\n",
       "      <td>217</td>\n",
       "      <td>171</td>\n",
       "      <td>834</td>\n",
       "      <td>0</td>\n",
       "    </tr>\n",
       "    <tr>\n",
       "      <th>2</th>\n",
       "      <td>9</td>\n",
       "      <td>2</td>\n",
       "      <td>5</td>\n",
       "      <td>1422</td>\n",
       "      <td>20</td>\n",
       "      <td>228</td>\n",
       "      <td>59</td>\n",
       "      <td>416</td>\n",
       "      <td>0</td>\n",
       "    </tr>\n",
       "  </tbody>\n",
       "</table>\n",
       "</div>"
      ],
      "text/plain": [
       "  Month DayofMonth DayOfWeek  DepTime  UniqueCarrier  Origin  Dest  Distance  \\\n",
       "0     8         21         7     1934              0      18    78       732   \n",
       "1     4         20         3     1548             18     217   171       834   \n",
       "2     9          2         5     1422             20     228    59       416   \n",
       "\n",
       "   dep_delayed_15min  \n",
       "0                  0  \n",
       "1                  0  \n",
       "2                  0  "
      ]
     },
     "execution_count": 7,
     "metadata": {},
     "output_type": "execute_result"
    }
   ],
   "source": [
    "label_encoding = LabelEncoder()\n",
    "def encode(df):\n",
    "    df['UniqueCarrier'] = label_encoding.fit_transform(df['UniqueCarrier'])\n",
    "    df['Origin'] = label_encoding.fit_transform(df['Origin'])\n",
    "    df['Dest'] = label_encoding.fit_transform(df['Dest'])\n",
    "\n",
    "encode(train)\n",
    "train['dep_delayed_15min'] = label_encoding.fit_transform(train['dep_delayed_15min'])\n",
    "#Writing this seperately since, dep_delayed_15min column is not present in test dataframe\n",
    "\n",
    "\n",
    "encode(test)\n",
    "train.head(3)"
   ]
  },
  {
   "cell_type": "code",
   "execution_count": 8,
   "id": "93b7e180",
   "metadata": {
    "execution": {
     "iopub.execute_input": "2023-09-10T01:32:50.807414Z",
     "iopub.status.busy": "2023-09-10T01:32:50.805621Z",
     "iopub.status.idle": "2023-09-10T01:32:50.823608Z",
     "shell.execute_reply": "2023-09-10T01:32:50.822734Z"
    },
    "papermill": {
     "duration": 0.030122,
     "end_time": "2023-09-10T01:32:50.825629",
     "exception": false,
     "start_time": "2023-09-10T01:32:50.795507",
     "status": "completed"
    },
    "tags": []
   },
   "outputs": [],
   "source": [
    "X = train.drop(['dep_delayed_15min'],axis=1)\n",
    "y = train['dep_delayed_15min']"
   ]
  },
  {
   "cell_type": "code",
   "execution_count": 9,
   "id": "1eea266c",
   "metadata": {
    "execution": {
     "iopub.execute_input": "2023-09-10T01:32:50.844983Z",
     "iopub.status.busy": "2023-09-10T01:32:50.844703Z",
     "iopub.status.idle": "2023-09-10T01:32:50.850208Z",
     "shell.execute_reply": "2023-09-10T01:32:50.849352Z"
    },
    "papermill": {
     "duration": 0.01744,
     "end_time": "2023-09-10T01:32:50.852150",
     "exception": false,
     "start_time": "2023-09-10T01:32:50.834710",
     "status": "completed"
    },
    "tags": []
   },
   "outputs": [
    {
     "data": {
      "text/plain": [
       "(100000, 9)"
      ]
     },
     "execution_count": 9,
     "metadata": {},
     "output_type": "execute_result"
    }
   ],
   "source": [
    "train.shape"
   ]
  },
  {
   "cell_type": "markdown",
   "id": "b3770dc0",
   "metadata": {
    "papermill": {
     "duration": 0.008811,
     "end_time": "2023-09-10T01:32:50.870123",
     "exception": false,
     "start_time": "2023-09-10T01:32:50.861312",
     "status": "completed"
    },
    "tags": []
   },
   "source": [
    "Understanding the pairplot between all the parameters with dep_delayed_15min"
   ]
  },
  {
   "cell_type": "code",
   "execution_count": 10,
   "id": "2c2aa461",
   "metadata": {
    "execution": {
     "iopub.execute_input": "2023-09-10T01:32:50.890092Z",
     "iopub.status.busy": "2023-09-10T01:32:50.889362Z",
     "iopub.status.idle": "2023-09-10T01:35:44.476561Z",
     "shell.execute_reply": "2023-09-10T01:35:44.475362Z"
    },
    "papermill": {
     "duration": 173.644812,
     "end_time": "2023-09-10T01:35:44.524132",
     "exception": false,
     "start_time": "2023-09-10T01:32:50.879320",
     "status": "completed"
    },
    "tags": []
   },
   "outputs": [],
   "source": [
    "#sns.pairplot(train,hue = 'dep_delayed_15min')"
   ]
  },
  {
   "cell_type": "markdown",
   "id": "8db163f4",
   "metadata": {
    "papermill": {
     "duration": 0.02859,
     "end_time": "2023-09-10T01:35:44.579592",
     "exception": false,
     "start_time": "2023-09-10T01:35:44.551002",
     "status": "completed"
    },
    "tags": []
   },
   "source": [
    "Now the pairplot clearly insit that any linear classification will be useless, because of high overlaps. ALgortihms like RandomForestRegressor will be efficient. However, in this notebook we will stick towards developing Artificial Neural Network"
   ]
  },
  {
   "cell_type": "code",
   "execution_count": 11,
   "id": "626128a2",
   "metadata": {
    "execution": {
     "iopub.execute_input": "2023-09-10T01:35:44.641528Z",
     "iopub.status.busy": "2023-09-10T01:35:44.641134Z",
     "iopub.status.idle": "2023-09-10T01:35:45.169017Z",
     "shell.execute_reply": "2023-09-10T01:35:45.167954Z"
    },
    "papermill": {
     "duration": 0.563637,
     "end_time": "2023-09-10T01:35:45.171677",
     "exception": false,
     "start_time": "2023-09-10T01:35:44.608040",
     "status": "completed"
    },
    "tags": []
   },
   "outputs": [],
   "source": [
    "scaler = StandardScaler()\n",
    "X_scaled = scaler.fit_transform(X)\n",
    "test_scaled = scaler.fit_transform(test)"
   ]
  },
  {
   "cell_type": "markdown",
   "id": "46a7af73",
   "metadata": {
    "papermill": {
     "duration": 0.027534,
     "end_time": "2023-09-10T01:35:45.226755",
     "exception": false,
     "start_time": "2023-09-10T01:35:45.199221",
     "status": "completed"
    },
    "tags": []
   },
   "source": [
    "After scaling the data we can feed this into a deep leaning model"
   ]
  },
  {
   "cell_type": "code",
   "execution_count": 12,
   "id": "5de9f1d2",
   "metadata": {
    "execution": {
     "iopub.execute_input": "2023-09-10T01:35:45.285501Z",
     "iopub.status.busy": "2023-09-10T01:35:45.284488Z",
     "iopub.status.idle": "2023-09-10T01:35:50.349998Z",
     "shell.execute_reply": "2023-09-10T01:35:50.348976Z"
    },
    "papermill": {
     "duration": 5.098111,
     "end_time": "2023-09-10T01:35:50.353245",
     "exception": false,
     "start_time": "2023-09-10T01:35:45.255134",
     "status": "completed"
    },
    "tags": []
   },
   "outputs": [],
   "source": [
    "model = None\n",
    "model = keras.Sequential([\n",
    "    layers.Input(shape = (8,)),\n",
    "    layers.Dense(64,activation = 'relu'),\n",
    "    layers.Dropout(0.2),\n",
    "    layers.Dense(64,activation = 'relu'),\n",
    "    layers.Dropout(0.2),\n",
    "    layers.Dense(1,activation = 'sigmoid')\n",
    "])\n",
    "\n",
    "\n",
    "model.compile(optimizer = 'adam',loss = 'binary_crossentropy', metrics = ['accuracy'])"
   ]
  },
  {
   "cell_type": "code",
   "execution_count": 13,
   "id": "1aeec47e",
   "metadata": {
    "execution": {
     "iopub.execute_input": "2023-09-10T01:35:50.443978Z",
     "iopub.status.busy": "2023-09-10T01:35:50.443601Z",
     "iopub.status.idle": "2023-09-10T01:36:28.388699Z",
     "shell.execute_reply": "2023-09-10T01:36:28.387622Z"
    },
    "papermill": {
     "duration": 37.99329,
     "end_time": "2023-09-10T01:36:28.391182",
     "exception": false,
     "start_time": "2023-09-10T01:35:50.397892",
     "status": "completed"
    },
    "tags": []
   },
   "outputs": [
    {
     "name": "stdout",
     "output_type": "stream",
     "text": [
      "Epoch 1/6\n",
      "\u001b[1m1172/1172\u001b[0m \u001b[32m━━━━━━━━━━━━━━━━━━━━\u001b[0m\u001b[37m\u001b[0m \u001b[1m9s\u001b[0m 6ms/step - accuracy: 0.8081 - loss: 0.4731 - val_accuracy: 0.8092 - val_loss: 0.4563\n",
      "Epoch 2/6\n",
      "\u001b[1m1172/1172\u001b[0m \u001b[32m━━━━━━━━━━━━━━━━━━━━\u001b[0m\u001b[37m\u001b[0m \u001b[1m8s\u001b[0m 6ms/step - accuracy: 0.8101 - loss: 0.4572 - val_accuracy: 0.8093 - val_loss: 0.4544\n",
      "Epoch 3/6\n",
      "\u001b[1m1172/1172\u001b[0m \u001b[32m━━━━━━━━━━━━━━━━━━━━\u001b[0m\u001b[37m\u001b[0m \u001b[1m9s\u001b[0m 5ms/step - accuracy: 0.8107 - loss: 0.4552 - val_accuracy: 0.8090 - val_loss: 0.4541\n",
      "Epoch 4/6\n",
      "\u001b[1m1172/1172\u001b[0m \u001b[32m━━━━━━━━━━━━━━━━━━━━\u001b[0m\u001b[37m\u001b[0m \u001b[1m7s\u001b[0m 6ms/step - accuracy: 0.8077 - loss: 0.4586 - val_accuracy: 0.8096 - val_loss: 0.4536\n",
      "Epoch 5/6\n",
      "\u001b[1m1172/1172\u001b[0m \u001b[32m━━━━━━━━━━━━━━━━━━━━\u001b[0m\u001b[37m\u001b[0m \u001b[1m8s\u001b[0m 7ms/step - accuracy: 0.8096 - loss: 0.4543 - val_accuracy: 0.8097 - val_loss: 0.4531\n",
      "Epoch 6/6\n",
      "\u001b[1m1172/1172\u001b[0m \u001b[32m━━━━━━━━━━━━━━━━━━━━\u001b[0m\u001b[37m\u001b[0m \u001b[1m6s\u001b[0m 5ms/step - accuracy: 0.8107 - loss: 0.4514 - val_accuracy: 0.8098 - val_loss: 0.4507\n"
     ]
    }
   ],
   "source": [
    "history = model.fit(X_scaled,y,epochs = 6,batch_size = 64,validation_split = 0.25,shuffle = True)"
   ]
  },
  {
   "cell_type": "code",
   "execution_count": 14,
   "id": "ff252cc6",
   "metadata": {
    "execution": {
     "iopub.execute_input": "2023-09-10T01:36:28.572741Z",
     "iopub.status.busy": "2023-09-10T01:36:28.572343Z",
     "iopub.status.idle": "2023-09-10T01:36:35.587456Z",
     "shell.execute_reply": "2023-09-10T01:36:35.586381Z"
    },
    "papermill": {
     "duration": 7.086058,
     "end_time": "2023-09-10T01:36:35.589927",
     "exception": false,
     "start_time": "2023-09-10T01:36:28.503869",
     "status": "completed"
    },
    "tags": []
   },
   "outputs": [
    {
     "name": "stdout",
     "output_type": "stream",
     "text": [
      "\u001b[1m3125/3125\u001b[0m \u001b[32m━━━━━━━━━━━━━━━━━━━━\u001b[0m\u001b[37m\u001b[0m \u001b[1m9s\u001b[0m 3ms/step\n"
     ]
    }
   ],
   "source": [
    "pred = model.predict(test_scaled)"
   ]
  },
  {
   "cell_type": "markdown",
   "id": "8b1af65b",
   "metadata": {
    "papermill": {
     "duration": 0.077721,
     "end_time": "2023-09-10T01:36:35.744079",
     "exception": false,
     "start_time": "2023-09-10T01:36:35.666358",
     "status": "completed"
    },
    "tags": []
   },
   "source": [
    "Score will be around 0.69"
   ]
  },
  {
   "cell_type": "code",
   "execution_count": 15,
   "id": "e83f7fc0",
   "metadata": {
    "execution": {
     "iopub.execute_input": "2023-09-10T01:36:35.895601Z",
     "iopub.status.busy": "2023-09-10T01:36:35.895210Z",
     "iopub.status.idle": "2023-09-10T01:36:36.210601Z",
     "shell.execute_reply": "2023-09-10T01:36:36.209320Z"
    },
    "papermill": {
     "duration": 0.392978,
     "end_time": "2023-09-10T01:36:36.213148",
     "exception": false,
     "start_time": "2023-09-10T01:36:35.820170",
     "status": "completed"
    },
    "tags": []
   },
   "outputs": [
    {
     "data": {
      "text/html": [
       "<div>\n",
       "<style scoped>\n",
       "    .dataframe tbody tr th:only-of-type {\n",
       "        vertical-align: middle;\n",
       "    }\n",
       "\n",
       "    .dataframe tbody tr th {\n",
       "        vertical-align: top;\n",
       "    }\n",
       "\n",
       "    .dataframe thead th {\n",
       "        text-align: right;\n",
       "    }\n",
       "</style>\n",
       "<table border=\"1\" class=\"dataframe\">\n",
       "  <thead>\n",
       "    <tr style=\"text-align: right;\">\n",
       "      <th></th>\n",
       "      <th>id</th>\n",
       "      <th>dep_delayed_15min</th>\n",
       "    </tr>\n",
       "  </thead>\n",
       "  <tbody>\n",
       "    <tr>\n",
       "      <th>0</th>\n",
       "      <td>0</td>\n",
       "      <td>0.073922</td>\n",
       "    </tr>\n",
       "    <tr>\n",
       "      <th>1</th>\n",
       "      <td>1</td>\n",
       "      <td>0.086877</td>\n",
       "    </tr>\n",
       "    <tr>\n",
       "      <th>2</th>\n",
       "      <td>2</td>\n",
       "      <td>0.064604</td>\n",
       "    </tr>\n",
       "    <tr>\n",
       "      <th>3</th>\n",
       "      <td>3</td>\n",
       "      <td>0.235065</td>\n",
       "    </tr>\n",
       "    <tr>\n",
       "      <th>4</th>\n",
       "      <td>4</td>\n",
       "      <td>0.195206</td>\n",
       "    </tr>\n",
       "  </tbody>\n",
       "</table>\n",
       "</div>"
      ],
      "text/plain": [
       "   id  dep_delayed_15min\n",
       "0   0           0.073922\n",
       "1   1           0.086877\n",
       "2   2           0.064604\n",
       "3   3           0.235065\n",
       "4   4           0.195206"
      ]
     },
     "execution_count": 15,
     "metadata": {},
     "output_type": "execute_result"
    }
   ],
   "source": [
    "pred = pred.flatten()\n",
    "sub = pd.Series(pred,name = 'dep_delayed_15min')\n",
    "sub = sub.reset_index()\n",
    "sub.columns = ['id', 'dep_delayed_15min']\n",
    "sub.to_csv(\"sub.csv\",index = False)\n",
    "sub.head()"
   ]
  }
 ],
 "metadata": {
  "kernelspec": {
   "display_name": "Python 3",
   "language": "python",
   "name": "python3"
  },
  "language_info": {
   "codemirror_mode": {
    "name": "ipython",
    "version": 3
   },
   "file_extension": ".py",
   "mimetype": "text/x-python",
   "name": "python",
   "nbconvert_exporter": "python",
   "pygments_lexer": "ipython3",
   "version": "3.10.2"
  },
  "papermill": {
   "default_parameters": {},
   "duration": 245.747088,
   "end_time": "2023-09-10T01:36:39.107806",
   "environment_variables": {},
   "exception": null,
   "input_path": "__notebook__.ipynb",
   "output_path": "__notebook__.ipynb",
   "parameters": {},
   "start_time": "2023-09-10T01:32:33.360718",
   "version": "2.4.0"
  }
 },
 "nbformat": 4,
 "nbformat_minor": 5
}
