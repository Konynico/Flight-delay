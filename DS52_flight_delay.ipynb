{
 "cells": [
  {
   "cell_type": "markdown",
   "id": "9c2fd01f",
   "metadata": {
    "papermill": {
     "duration": 0.009195,
     "end_time": "2023-09-10T01:32:36.955404",
     "exception": false,
     "start_time": "2023-09-10T01:32:36.946209",
     "status": "completed"
    },
    "tags": []
   },
   "source": [
    "1. Importing Datasets\n",
    "2. Data Cleaning\n",
    "3. Visulalizing pairplots\n",
    "4. Building Artificial Neural Networks\n",
    "5. Making submission file"
   ]
  },
  {
   "cell_type": "code",
   "execution_count": 1,
   "id": "aac410ac",
   "metadata": {
    "_cell_guid": "b1076dfc-b9ad-4769-8c92-a6c4dae69d19",
    "_uuid": "8f2839f25d086af736a60e9eeb907d3b93b6e0e5",
    "execution": {
     "iopub.execute_input": "2023-09-10T01:32:36.973299Z",
     "iopub.status.busy": "2023-09-10T01:32:36.972910Z",
     "iopub.status.idle": "2023-09-10T01:32:47.997938Z",
     "shell.execute_reply": "2023-09-10T01:32:47.996903Z"
    },
    "papermill": {
     "duration": 11.037084,
     "end_time": "2023-09-10T01:32:48.000572",
     "exception": false,
     "start_time": "2023-09-10T01:32:36.963488",
     "status": "completed"
    },
    "tags": []
   },
   "outputs": [],
   "source": [
    "import numpy as np\n",
    "import pandas as pd\n",
    "from sklearn.preprocessing import LabelEncoder,StandardScaler\n",
    "from sklearn.model_selection import train_test_split\n",
    "\n",
    "import seaborn as sns\n",
    "\n",
    "import tensorflow as tf\n",
    "from tensorflow import keras\n",
    "from tensorflow.keras import layers\n",
    "import matplotlib.pyplot as plt\n"
   ]
  },
  {
   "cell_type": "code",
   "execution_count": 2,
   "id": "c45e1b08",
   "metadata": {
    "execution": {
     "iopub.execute_input": "2023-09-10T01:32:48.099312Z",
     "iopub.status.busy": "2023-09-10T01:32:48.099012Z",
     "iopub.status.idle": "2023-09-10T01:32:48.252263Z",
     "shell.execute_reply": "2023-09-10T01:32:48.251311Z"
    },
    "papermill": {
     "duration": 0.164775,
     "end_time": "2023-09-10T01:32:48.254436",
     "exception": false,
     "start_time": "2023-09-10T01:32:48.089661",
     "status": "completed"
    },
    "tags": []
   },
   "outputs": [
    {
     "data": {
      "text/html": [
       "<div>\n",
       "<style scoped>\n",
       "    .dataframe tbody tr th:only-of-type {\n",
       "        vertical-align: middle;\n",
       "    }\n",
       "\n",
       "    .dataframe tbody tr th {\n",
       "        vertical-align: top;\n",
       "    }\n",
       "\n",
       "    .dataframe thead th {\n",
       "        text-align: right;\n",
       "    }\n",
       "</style>\n",
       "<table border=\"1\" class=\"dataframe\">\n",
       "  <thead>\n",
       "    <tr style=\"text-align: right;\">\n",
       "      <th></th>\n",
       "      <th>Month</th>\n",
       "      <th>DayofMonth</th>\n",
       "      <th>DayOfWeek</th>\n",
       "      <th>DepTime</th>\n",
       "      <th>UniqueCarrier</th>\n",
       "      <th>Origin</th>\n",
       "      <th>Dest</th>\n",
       "      <th>Distance</th>\n",
       "      <th>dep_delayed_15min</th>\n",
       "    </tr>\n",
       "  </thead>\n",
       "  <tbody>\n",
       "    <tr>\n",
       "      <th>0</th>\n",
       "      <td>c-8</td>\n",
       "      <td>c-21</td>\n",
       "      <td>c-7</td>\n",
       "      <td>1934</td>\n",
       "      <td>AA</td>\n",
       "      <td>ATL</td>\n",
       "      <td>DFW</td>\n",
       "      <td>732</td>\n",
       "      <td>N</td>\n",
       "    </tr>\n",
       "    <tr>\n",
       "      <th>1</th>\n",
       "      <td>c-4</td>\n",
       "      <td>c-20</td>\n",
       "      <td>c-3</td>\n",
       "      <td>1548</td>\n",
       "      <td>US</td>\n",
       "      <td>PIT</td>\n",
       "      <td>MCO</td>\n",
       "      <td>834</td>\n",
       "      <td>N</td>\n",
       "    </tr>\n",
       "    <tr>\n",
       "      <th>2</th>\n",
       "      <td>c-9</td>\n",
       "      <td>c-2</td>\n",
       "      <td>c-5</td>\n",
       "      <td>1422</td>\n",
       "      <td>XE</td>\n",
       "      <td>RDU</td>\n",
       "      <td>CLE</td>\n",
       "      <td>416</td>\n",
       "      <td>N</td>\n",
       "    </tr>\n",
       "  </tbody>\n",
       "</table>\n",
       "</div>"
      ],
      "text/plain": [
       "  Month DayofMonth DayOfWeek  DepTime UniqueCarrier Origin Dest  Distance  \\\n",
       "0   c-8       c-21       c-7     1934            AA    ATL  DFW       732   \n",
       "1   c-4       c-20       c-3     1548            US    PIT  MCO       834   \n",
       "2   c-9        c-2       c-5     1422            XE    RDU  CLE       416   \n",
       "\n",
       "  dep_delayed_15min  \n",
       "0                 N  \n",
       "1                 N  \n",
       "2                 N  "
      ]
     },
     "execution_count": 2,
     "metadata": {},
     "output_type": "execute_result"
    }
   ],
   "source": [
    "train = pd.read_csv(\"flight_delays_train.csv\")\n",
    "train.head(3)"
   ]
  },
  {
   "cell_type": "markdown",
   "id": "b263bb18",
   "metadata": {
    "papermill": {
     "duration": 0.008343,
     "end_time": "2023-09-10T01:32:48.271430",
     "exception": false,
     "start_time": "2023-09-10T01:32:48.263087",
     "status": "completed"
    },
    "tags": []
   },
   "source": [
    "Understanding the dataset, and confirming that any incorrect value does not exist in it by checking with total number of months etc."
   ]
  },
  {
   "cell_type": "code",
   "execution_count": 3,
   "id": "632b6154",
   "metadata": {
    "execution": {
     "iopub.execute_input": "2023-09-10T01:32:48.289799Z",
     "iopub.status.busy": "2023-09-10T01:32:48.288945Z",
     "iopub.status.idle": "2023-09-10T01:32:48.351093Z",
     "shell.execute_reply": "2023-09-10T01:32:48.349845Z"
    },
    "papermill": {
     "duration": 0.07355,
     "end_time": "2023-09-10T01:32:48.353200",
     "exception": false,
     "start_time": "2023-09-10T01:32:48.279650",
     "status": "completed"
    },
    "tags": []
   },
   "outputs": [
    {
     "name": "stdout",
     "output_type": "stream",
     "text": [
      "Columns:  Month   Unique Values:  12\n",
      "Columns:  DayofMonth   Unique Values:  31\n",
      "Columns:  DayOfWeek   Unique Values:  7\n",
      "Columns:  DepTime   Unique Values:  1300\n",
      "Columns:  UniqueCarrier   Unique Values:  22\n",
      "Columns:  Origin   Unique Values:  289\n",
      "Columns:  Dest   Unique Values:  289\n",
      "Columns:  Distance   Unique Values:  1310\n",
      "Columns:  dep_delayed_15min   Unique Values:  2\n"
     ]
    }
   ],
   "source": [
    "for col in train.columns:\n",
    "    uni = train[col].nunique()\n",
    "    print(\"Columns: \",col,\" \",\"Unique Values: \",uni)"
   ]
  },
  {
   "cell_type": "markdown",
   "id": "2d2e7a1a",
   "metadata": {
    "papermill": {
     "duration": 0.008094,
     "end_time": "2023-09-10T01:32:48.369617",
     "exception": false,
     "start_time": "2023-09-10T01:32:48.361523",
     "status": "completed"
    },
    "tags": []
   },
   "source": [
    "Checking for null values in dataset"
   ]
  },
  {
   "cell_type": "code",
   "execution_count": 4,
   "id": "bf12d3db",
   "metadata": {
    "execution": {
     "iopub.execute_input": "2023-09-10T01:32:48.387908Z",
     "iopub.status.busy": "2023-09-10T01:32:48.387250Z",
     "iopub.status.idle": "2023-09-10T01:32:48.458163Z",
     "shell.execute_reply": "2023-09-10T01:32:48.457275Z"
    },
    "papermill": {
     "duration": 0.082474,
     "end_time": "2023-09-10T01:32:48.460493",
     "exception": false,
     "start_time": "2023-09-10T01:32:48.378019",
     "status": "completed"
    },
    "tags": []
   },
   "outputs": [
    {
     "data": {
      "text/plain": [
       "Month                0\n",
       "DayofMonth           0\n",
       "DayOfWeek            0\n",
       "DepTime              0\n",
       "UniqueCarrier        0\n",
       "Origin               0\n",
       "Dest                 0\n",
       "Distance             0\n",
       "dep_delayed_15min    0\n",
       "dtype: int64"
      ]
     },
     "execution_count": 4,
     "metadata": {},
     "output_type": "execute_result"
    }
   ],
   "source": [
    "train.isnull().sum().sort_values()"
   ]
  },
  {
   "cell_type": "code",
   "execution_count": 5,
   "id": "3a1e2b10",
   "metadata": {},
   "outputs": [],
   "source": [
    "#Features:\n",
    "\n",
    "#Month, DayofMonth, DayOfWeek\n",
    "#DepTime – departure time\n",
    "#UniqueCarrier – code of a company-career\n",
    "#Origin – flight origin\n",
    "#Dest – flight destination\n",
    "#Distance, distance between Origin and Dest airports\n",
    "#dep_delayed_15min – target"
   ]
  },
  {
   "cell_type": "code",
   "execution_count": 6,
   "id": "6c892a76",
   "metadata": {},
   "outputs": [
    {
     "data": {
      "image/png": "[encoded data removed]",
      "text/plain": [
       "<Figure size 600x600 with 1 Axes>"
      ]
     },
     "metadata": {},
     "output_type": "display_data"
    }
   ],
   "source": [
    "#Target Distribution\n",
    "plt.figure(figsize=(6, 6))\n",
    "sns.countplot(x='dep_delayed_15min', data=train)\n",
    "plt.xlabel('Delayed more than 15 minutes')\n",
    "plt.title('Distribution of planes more than 15 minutes late')\n",
    "plt.show()"
   ]
  },
  {
   "cell_type": "markdown",
   "id": "32a65e58",
   "metadata": {
    "papermill": {
     "duration": 0.008285,
     "end_time": "2023-09-10T01:32:48.477231",
     "exception": false,
     "start_time": "2023-09-10T01:32:48.468946",
     "status": "completed"
    },
    "tags": []
   },
   "source": [
    "The dataset has no null value"
   ]
  },
  {
   "cell_type": "code",
   "execution_count": 7,
   "id": "24208ff6",
   "metadata": {
    "execution": {
     "iopub.execute_input": "2023-09-10T01:32:48.554727Z",
     "iopub.status.busy": "2023-09-10T01:32:48.554437Z",
     "iopub.status.idle": "2023-09-10T01:32:48.670825Z",
     "shell.execute_reply": "2023-09-10T01:32:48.669784Z"
    },
    "papermill": {
     "duration": 0.128979,
     "end_time": "2023-09-10T01:32:48.673444",
     "exception": false,
     "start_time": "2023-09-10T01:32:48.544465",
     "status": "completed"
    },
    "tags": []
   },
   "outputs": [],
   "source": [
    "test = pd.read_csv(\"flight_delays_test.csv\")"
   ]
  },
  {
   "cell_type": "code",
   "execution_count": 8,
   "id": "e90e0878",
   "metadata": {},
   "outputs": [
    {
     "data": {
      "text/plain": [
       "(100000, 8)"
      ]
     },
     "execution_count": 8,
     "metadata": {},
     "output_type": "execute_result"
    }
   ],
   "source": [
    "test.shape"
   ]
  },
  {
   "cell_type": "code",
   "execution_count": 9,
   "id": "4f7eac58",
   "metadata": {},
   "outputs": [
    {
     "data": {
      "text/html": [
       "<div>\n",
       "<style scoped>\n",
       "    .dataframe tbody tr th:only-of-type {\n",
       "        vertical-align: middle;\n",
       "    }\n",
       "\n",
       "    .dataframe tbody tr th {\n",
       "        vertical-align: top;\n",
       "    }\n",
       "\n",
       "    .dataframe thead th {\n",
       "        text-align: right;\n",
       "    }\n",
       "</style>\n",
       "<table border=\"1\" class=\"dataframe\">\n",
       "  <thead>\n",
       "    <tr style=\"text-align: right;\">\n",
       "      <th></th>\n",
       "      <th>Month</th>\n",
       "      <th>DayofMonth</th>\n",
       "      <th>DayOfWeek</th>\n",
       "      <th>DepTime</th>\n",
       "      <th>UniqueCarrier</th>\n",
       "      <th>Origin</th>\n",
       "      <th>Dest</th>\n",
       "      <th>Distance</th>\n",
       "      <th>dep_delayed_15min</th>\n",
       "    </tr>\n",
       "  </thead>\n",
       "  <tbody>\n",
       "    <tr>\n",
       "      <th>0</th>\n",
       "      <td>c-8</td>\n",
       "      <td>c-21</td>\n",
       "      <td>c-7</td>\n",
       "      <td>1934</td>\n",
       "      <td>AA</td>\n",
       "      <td>ATL</td>\n",
       "      <td>DFW</td>\n",
       "      <td>732</td>\n",
       "      <td>N</td>\n",
       "    </tr>\n",
       "    <tr>\n",
       "      <th>1</th>\n",
       "      <td>c-4</td>\n",
       "      <td>c-20</td>\n",
       "      <td>c-3</td>\n",
       "      <td>1548</td>\n",
       "      <td>US</td>\n",
       "      <td>PIT</td>\n",
       "      <td>MCO</td>\n",
       "      <td>834</td>\n",
       "      <td>N</td>\n",
       "    </tr>\n",
       "    <tr>\n",
       "      <th>2</th>\n",
       "      <td>c-9</td>\n",
       "      <td>c-2</td>\n",
       "      <td>c-5</td>\n",
       "      <td>1422</td>\n",
       "      <td>XE</td>\n",
       "      <td>RDU</td>\n",
       "      <td>CLE</td>\n",
       "      <td>416</td>\n",
       "      <td>N</td>\n",
       "    </tr>\n",
       "  </tbody>\n",
       "</table>\n",
       "</div>"
      ],
      "text/plain": [
       "  Month DayofMonth DayOfWeek  DepTime UniqueCarrier Origin Dest  Distance  \\\n",
       "0   c-8       c-21       c-7     1934            AA    ATL  DFW       732   \n",
       "1   c-4       c-20       c-3     1548            US    PIT  MCO       834   \n",
       "2   c-9        c-2       c-5     1422            XE    RDU  CLE       416   \n",
       "\n",
       "  dep_delayed_15min  \n",
       "0                 N  \n",
       "1                 N  \n",
       "2                 N  "
      ]
     },
     "execution_count": 9,
     "metadata": {},
     "output_type": "execute_result"
    }
   ],
   "source": [
    "train.head(3)"
   ]
  },
  {
   "cell_type": "markdown",
   "id": "8ec0bc1e",
   "metadata": {
    "papermill": {
     "duration": 0.008515,
     "end_time": "2023-09-10T01:32:48.691242",
     "exception": false,
     "start_time": "2023-09-10T01:32:48.682727",
     "status": "completed"
    },
    "tags": []
   },
   "source": [
    "Removing the alphabets from Day, Month and Week columns"
   ]
  },
  {
   "cell_type": "code",
   "execution_count": 10,
   "id": "5a79054d",
   "metadata": {
    "execution": {
     "iopub.execute_input": "2023-09-10T01:32:48.711040Z",
     "iopub.status.busy": "2023-09-10T01:32:48.709523Z",
     "iopub.status.idle": "2023-09-10T01:32:50.535438Z",
     "shell.execute_reply": "2023-09-10T01:32:50.534266Z"
    },
    "papermill": {
     "duration": 1.837865,
     "end_time": "2023-09-10T01:32:50.537852",
     "exception": false,
     "start_time": "2023-09-10T01:32:48.699987",
     "status": "completed"
    },
    "tags": []
   },
   "outputs": [
    {
     "data": {
      "text/html": [
       "<div>\n",
       "<style scoped>\n",
       "    .dataframe tbody tr th:only-of-type {\n",
       "        vertical-align: middle;\n",
       "    }\n",
       "\n",
       "    .dataframe tbody tr th {\n",
       "        vertical-align: top;\n",
       "    }\n",
       "\n",
       "    .dataframe thead th {\n",
       "        text-align: right;\n",
       "    }\n",
       "</style>\n",
       "<table border=\"1\" class=\"dataframe\">\n",
       "  <thead>\n",
       "    <tr style=\"text-align: right;\">\n",
       "      <th></th>\n",
       "      <th>Month</th>\n",
       "      <th>DayofMonth</th>\n",
       "      <th>DayOfWeek</th>\n",
       "      <th>DepTime</th>\n",
       "      <th>UniqueCarrier</th>\n",
       "      <th>Origin</th>\n",
       "      <th>Dest</th>\n",
       "      <th>Distance</th>\n",
       "      <th>dep_delayed_15min</th>\n",
       "    </tr>\n",
       "  </thead>\n",
       "  <tbody>\n",
       "    <tr>\n",
       "      <th>0</th>\n",
       "      <td>8</td>\n",
       "      <td>21</td>\n",
       "      <td>7</td>\n",
       "      <td>1934</td>\n",
       "      <td>AA</td>\n",
       "      <td>ATL</td>\n",
       "      <td>DFW</td>\n",
       "      <td>732</td>\n",
       "      <td>N</td>\n",
       "    </tr>\n",
       "    <tr>\n",
       "      <th>1</th>\n",
       "      <td>4</td>\n",
       "      <td>20</td>\n",
       "      <td>3</td>\n",
       "      <td>1548</td>\n",
       "      <td>US</td>\n",
       "      <td>PIT</td>\n",
       "      <td>MCO</td>\n",
       "      <td>834</td>\n",
       "      <td>N</td>\n",
       "    </tr>\n",
       "    <tr>\n",
       "      <th>2</th>\n",
       "      <td>9</td>\n",
       "      <td>2</td>\n",
       "      <td>5</td>\n",
       "      <td>1422</td>\n",
       "      <td>XE</td>\n",
       "      <td>RDU</td>\n",
       "      <td>CLE</td>\n",
       "      <td>416</td>\n",
       "      <td>N</td>\n",
       "    </tr>\n",
       "  </tbody>\n",
       "</table>\n",
       "</div>"
      ],
      "text/plain": [
       "   Month  DayofMonth  DayOfWeek  DepTime UniqueCarrier Origin Dest  Distance  \\\n",
       "0      8          21          7     1934            AA    ATL  DFW       732   \n",
       "1      4          20          3     1548            US    PIT  MCO       834   \n",
       "2      9           2          5     1422            XE    RDU  CLE       416   \n",
       "\n",
       "  dep_delayed_15min  \n",
       "0                 N  \n",
       "1                 N  \n",
       "2                 N  "
      ]
     },
     "execution_count": 10,
     "metadata": {},
     "output_type": "execute_result"
    }
   ],
   "source": [
    "def clean_alpha(df):\n",
    "    df.Month = df.Month.str.extract(r\"(\\d+)\").astype(int)\n",
    "    df.DayofMonth = df.DayofMonth.str.extract(r\"(\\d+)\").astype(int)\n",
    "    df.DayOfWeek = df.DayOfWeek.str.extract(r\"(\\d+)\").astype(int)\n",
    "\n",
    "\n",
    "clean_alpha(train)\n",
    "clean_alpha(test)\n",
    "train.head(3)"
   ]
  },
  {
   "cell_type": "markdown",
   "id": "b8263bec",
   "metadata": {
    "papermill": {
     "duration": 0.008794,
     "end_time": "2023-09-10T01:32:50.557043",
     "exception": false,
     "start_time": "2023-09-10T01:32:50.548249",
     "status": "completed"
    },
    "tags": []
   },
   "source": [
    "Encoding all the alphabets based data into numbers"
   ]
  },
  {
   "cell_type": "code",
   "execution_count": 11,
   "id": "0cb19c45",
   "metadata": {
    "execution": {
     "iopub.execute_input": "2023-09-10T01:32:50.575908Z",
     "iopub.status.busy": "2023-09-10T01:32:50.575602Z",
     "iopub.status.idle": "2023-09-10T01:32:50.783374Z",
     "shell.execute_reply": "2023-09-10T01:32:50.782360Z"
    },
    "papermill": {
     "duration": 0.219646,
     "end_time": "2023-09-10T01:32:50.785493",
     "exception": false,
     "start_time": "2023-09-10T01:32:50.565847",
     "status": "completed"
    },
    "tags": []
   },
   "outputs": [
    {
     "data": {
      "text/html": [
       "<div>\n",
       "<style scoped>\n",
       "    .dataframe tbody tr th:only-of-type {\n",
       "        vertical-align: middle;\n",
       "    }\n",
       "\n",
       "    .dataframe tbody tr th {\n",
       "        vertical-align: top;\n",
       "    }\n",
       "\n",
       "    .dataframe thead th {\n",
       "        text-align: right;\n",
       "    }\n",
       "</style>\n",
       "<table border=\"1\" class=\"dataframe\">\n",
       "  <thead>\n",
       "    <tr style=\"text-align: right;\">\n",
       "      <th></th>\n",
       "      <th>Month</th>\n",
       "      <th>DayofMonth</th>\n",
       "      <th>DayOfWeek</th>\n",
       "      <th>DepTime</th>\n",
       "      <th>UniqueCarrier</th>\n",
       "      <th>Origin</th>\n",
       "      <th>Dest</th>\n",
       "      <th>Distance</th>\n",
       "      <th>dep_delayed_15min</th>\n",
       "    </tr>\n",
       "  </thead>\n",
       "  <tbody>\n",
       "    <tr>\n",
       "      <th>0</th>\n",
       "      <td>8</td>\n",
       "      <td>21</td>\n",
       "      <td>7</td>\n",
       "      <td>1934</td>\n",
       "      <td>0</td>\n",
       "      <td>18</td>\n",
       "      <td>78</td>\n",
       "      <td>732</td>\n",
       "      <td>0</td>\n",
       "    </tr>\n",
       "    <tr>\n",
       "      <th>1</th>\n",
       "      <td>4</td>\n",
       "      <td>20</td>\n",
       "      <td>3</td>\n",
       "      <td>1548</td>\n",
       "      <td>18</td>\n",
       "      <td>217</td>\n",
       "      <td>171</td>\n",
       "      <td>834</td>\n",
       "      <td>0</td>\n",
       "    </tr>\n",
       "    <tr>\n",
       "      <th>2</th>\n",
       "      <td>9</td>\n",
       "      <td>2</td>\n",
       "      <td>5</td>\n",
       "      <td>1422</td>\n",
       "      <td>20</td>\n",
       "      <td>228</td>\n",
       "      <td>59</td>\n",
       "      <td>416</td>\n",
       "      <td>0</td>\n",
       "    </tr>\n",
       "  </tbody>\n",
       "</table>\n",
       "</div>"
      ],
      "text/plain": [
       "   Month  DayofMonth  DayOfWeek  DepTime  UniqueCarrier  Origin  Dest  \\\n",
       "0      8          21          7     1934              0      18    78   \n",
       "1      4          20          3     1548             18     217   171   \n",
       "2      9           2          5     1422             20     228    59   \n",
       "\n",
       "   Distance  dep_delayed_15min  \n",
       "0       732                  0  \n",
       "1       834                  0  \n",
       "2       416                  0  "
      ]
     },
     "execution_count": 11,
     "metadata": {},
     "output_type": "execute_result"
    }
   ],
   "source": [
    "label_encoding = LabelEncoder()\n",
    "def encode(df):\n",
    "    df['UniqueCarrier'] = label_encoding.fit_transform(df['UniqueCarrier'])\n",
    "    df['Origin'] = label_encoding.fit_transform(df['Origin'])\n",
    "    df['Dest'] = label_encoding.fit_transform(df['Dest'])\n",
    "\n",
    "encode(train)\n",
    "train['dep_delayed_15min'] = label_encoding.fit_transform(train['dep_delayed_15min'])\n",
    "#Writing this seperately since, dep_delayed_15min column is not present in test dataframe\n",
    "\n",
    "\n",
    "encode(test)\n",
    "train.head(3)"
   ]
  },
  {
   "cell_type": "markdown",
   "id": "1b719de3",
   "metadata": {},
   "source": [
    "Create new features"
   ]
  },
  {
   "cell_type": "code",
   "execution_count": 12,
   "id": "c8b0740f",
   "metadata": {},
   "outputs": [
    {
     "data": {
      "text/html": [
       "<div>\n",
       "<style scoped>\n",
       "    .dataframe tbody tr th:only-of-type {\n",
       "        vertical-align: middle;\n",
       "    }\n",
       "\n",
       "    .dataframe tbody tr th {\n",
       "        vertical-align: top;\n",
       "    }\n",
       "\n",
       "    .dataframe thead th {\n",
       "        text-align: right;\n",
       "    }\n",
       "</style>\n",
       "<table border=\"1\" class=\"dataframe\">\n",
       "  <thead>\n",
       "    <tr style=\"text-align: right;\">\n",
       "      <th></th>\n",
       "      <th>Month</th>\n",
       "      <th>DayofMonth</th>\n",
       "      <th>DayOfWeek</th>\n",
       "      <th>DepTime</th>\n",
       "      <th>UniqueCarrier</th>\n",
       "      <th>Origin</th>\n",
       "      <th>Dest</th>\n",
       "      <th>dep_delayed_15min</th>\n",
       "      <th>Dep_hour</th>\n",
       "      <th>Dep_minute</th>\n",
       "      <th>...</th>\n",
       "      <th>UniqueCarrier_Origin</th>\n",
       "      <th>UniqueCarrier_Dest</th>\n",
       "      <th>is_weekend</th>\n",
       "      <th>summer</th>\n",
       "      <th>autumn</th>\n",
       "      <th>winter</th>\n",
       "      <th>spring</th>\n",
       "      <th>DayTime</th>\n",
       "      <th>DepTime_bin</th>\n",
       "      <th>Dist_bin</th>\n",
       "    </tr>\n",
       "  </thead>\n",
       "  <tbody>\n",
       "    <tr>\n",
       "      <th>0</th>\n",
       "      <td>8</td>\n",
       "      <td>21</td>\n",
       "      <td>7</td>\n",
       "      <td>1934</td>\n",
       "      <td>0</td>\n",
       "      <td>18</td>\n",
       "      <td>78</td>\n",
       "      <td>0</td>\n",
       "      <td>19</td>\n",
       "      <td>34</td>\n",
       "      <td>...</td>\n",
       "      <td>0_18</td>\n",
       "      <td>0_78</td>\n",
       "      <td>True</td>\n",
       "      <td>True</td>\n",
       "      <td>False</td>\n",
       "      <td>False</td>\n",
       "      <td>False</td>\n",
       "      <td>0</td>\n",
       "      <td>3.0</td>\n",
       "      <td>1</td>\n",
       "    </tr>\n",
       "    <tr>\n",
       "      <th>1</th>\n",
       "      <td>4</td>\n",
       "      <td>20</td>\n",
       "      <td>3</td>\n",
       "      <td>1548</td>\n",
       "      <td>18</td>\n",
       "      <td>217</td>\n",
       "      <td>171</td>\n",
       "      <td>0</td>\n",
       "      <td>15</td>\n",
       "      <td>48</td>\n",
       "      <td>...</td>\n",
       "      <td>18_217</td>\n",
       "      <td>18_171</td>\n",
       "      <td>False</td>\n",
       "      <td>False</td>\n",
       "      <td>False</td>\n",
       "      <td>False</td>\n",
       "      <td>True</td>\n",
       "      <td>0</td>\n",
       "      <td>2.0</td>\n",
       "      <td>1</td>\n",
       "    </tr>\n",
       "    <tr>\n",
       "      <th>2</th>\n",
       "      <td>9</td>\n",
       "      <td>2</td>\n",
       "      <td>5</td>\n",
       "      <td>1422</td>\n",
       "      <td>20</td>\n",
       "      <td>228</td>\n",
       "      <td>59</td>\n",
       "      <td>0</td>\n",
       "      <td>14</td>\n",
       "      <td>22</td>\n",
       "      <td>...</td>\n",
       "      <td>20_228</td>\n",
       "      <td>20_59</td>\n",
       "      <td>False</td>\n",
       "      <td>False</td>\n",
       "      <td>True</td>\n",
       "      <td>False</td>\n",
       "      <td>False</td>\n",
       "      <td>0</td>\n",
       "      <td>2.0</td>\n",
       "      <td>0</td>\n",
       "    </tr>\n",
       "  </tbody>\n",
       "</table>\n",
       "<p>3 rows × 23 columns</p>\n",
       "</div>"
      ],
      "text/plain": [
       "   Month  DayofMonth  DayOfWeek  DepTime  UniqueCarrier  Origin  Dest  \\\n",
       "0      8          21          7     1934              0      18    78   \n",
       "1      4          20          3     1548             18     217   171   \n",
       "2      9           2          5     1422             20     228    59   \n",
       "\n",
       "   dep_delayed_15min  Dep_hour  Dep_minute  ...  UniqueCarrier_Origin  \\\n",
       "0                  0        19          34  ...                  0_18   \n",
       "1                  0        15          48  ...                18_217   \n",
       "2                  0        14          22  ...                20_228   \n",
       "\n",
       "   UniqueCarrier_Dest  is_weekend summer autumn  winter  spring  DayTime  \\\n",
       "0                0_78        True   True  False   False   False        0   \n",
       "1              18_171       False  False  False   False    True        0   \n",
       "2               20_59       False  False   True   False   False        0   \n",
       "\n",
       "   DepTime_bin  Dist_bin  \n",
       "0          3.0         1  \n",
       "1          2.0         1  \n",
       "2          2.0         0  \n",
       "\n",
       "[3 rows x 23 columns]"
      ]
     },
     "execution_count": 12,
     "metadata": {},
     "output_type": "execute_result"
    }
   ],
   "source": [
    "# Create New Features - Departure hour and minute from Departure time\n",
    "def newFeatures(df):\n",
    "    df['Dep_hour'] =  df['DepTime']//100\n",
    "    df['Dep_minute'] =  df['DepTime']%100\n",
    "    df['Dep_hour'].replace(to_replace=[24,25], value=0, inplace=True)\n",
    "\n",
    "    # give more importance to hour variable\n",
    "    df['Dep_hour2'] = df['Dep_hour'] ** 2\n",
    "    df['Dep_hour3'] = df['Dep_hour'] ** 4\n",
    "\n",
    "    #Combining Origin and Destination to have the route\n",
    "    df['Route'] = df['Origin'] + df['Dest'] \n",
    "\n",
    "    df['UniqueCarrier_Origin'] = df['UniqueCarrier'].astype(str) + \"_\" + df['Origin'].astype(str) #Combining UniqueCarrier and Origin to have a new feature\n",
    "    df['UniqueCarrier_Dest'] = df['UniqueCarrier'].astype(str) + \"_\" + df['Dest'].astype(str) #Combining UniqueCarrier and Dest to have a new feature\n",
    "\n",
    "    #Flight is in the Weekend or not\n",
    "    df['is_weekend'] = (df['DayOfWeek'] == 6) | (df['DayOfWeek'] == 7) \n",
    "\n",
    "    df['summer'] = (df['Month'].isin([6, 7, 8]))\n",
    "    df['autumn'] = (df['Month'].isin([9, 10, 11]))\n",
    "    df['winter'] = (df['Month'].isin([12, 1, 2]))\n",
    "    df['spring'] = (df['Month'].isin([3, 4, 5]))\n",
    "\n",
    "    df['DayTime'] = 0\n",
    "    df.loc[df.DepTime <= 600 , 'DepTime_bin'] = 0\n",
    "    df.loc[(df.DepTime > 600) & (df.DepTime <= 1200), 'DepTime_bin'] = 1\n",
    "    df.loc[(df.DepTime > 1200) & (df.DepTime <= 1800), 'DepTime_bin'] = 2\n",
    "    df.loc[(df.DepTime > 1800) & (df.DepTime <= 2600), 'DepTime_bin'] = 3\n",
    "\n",
    "    df['Dist_bin'] = 0\n",
    "    df.loc[df.Distance <= 500 , 'Dist_bin'] = 0\n",
    "    df.loc[(df.Distance > 500) & (df.Distance <= 1000), 'Dist_bin'] = 1\n",
    "    df.loc[(df.Distance > 1000) & (df.Distance <= 1500), 'Dist_bin'] = 2\n",
    "    df.loc[(df.Distance > 1500) & (df.Distance <= 2000), 'Dist_bin'] = 3\n",
    "    df.loc[(df.Distance > 2000) & (df.Distance <= 2500), 'Dist_bin'] = 4\n",
    "    df.loc[df.Distance > 2500, 'Dist_bin'] = 5\n",
    "\n",
    "newFeatures(test)\n",
    "newFeatures(train)\n",
    "test = test.drop(['Distance'], axis=1)\n",
    "train = train.drop(['Distance'], axis=1)\n",
    "\n",
    "train.head(3)"
   ]
  },
  {
   "cell_type": "code",
   "execution_count": 13,
   "id": "ec324683",
   "metadata": {},
   "outputs": [
    {
     "data": {
      "text/plain": [
       "array([3., 2., 1., 0.])"
      ]
     },
     "execution_count": 13,
     "metadata": {},
     "output_type": "execute_result"
    }
   ],
   "source": [
    "#afficher toutes les valeurs differentes de daytime\n",
    "train['DepTime_bin'].unique()\n",
    "\n",
    "\n"
   ]
  },
  {
   "cell_type": "code",
   "execution_count": 14,
   "id": "8264587f",
   "metadata": {},
   "outputs": [
    {
     "data": {
      "text/html": [
       "<div>\n",
       "<style scoped>\n",
       "    .dataframe tbody tr th:only-of-type {\n",
       "        vertical-align: middle;\n",
       "    }\n",
       "\n",
       "    .dataframe tbody tr th {\n",
       "        vertical-align: top;\n",
       "    }\n",
       "\n",
       "    .dataframe thead th {\n",
       "        text-align: right;\n",
       "    }\n",
       "</style>\n",
       "<table border=\"1\" class=\"dataframe\">\n",
       "  <thead>\n",
       "    <tr style=\"text-align: right;\">\n",
       "      <th>dep_delayed_15min</th>\n",
       "      <th>0</th>\n",
       "      <th>1</th>\n",
       "    </tr>\n",
       "    <tr>\n",
       "      <th>Dep_hour</th>\n",
       "      <th></th>\n",
       "      <th></th>\n",
       "    </tr>\n",
       "  </thead>\n",
       "  <tbody>\n",
       "    <tr>\n",
       "      <th>0</th>\n",
       "      <td>145</td>\n",
       "      <td>192</td>\n",
       "    </tr>\n",
       "    <tr>\n",
       "      <th>1</th>\n",
       "      <td>30</td>\n",
       "      <td>46</td>\n",
       "    </tr>\n",
       "    <tr>\n",
       "      <th>2</th>\n",
       "      <td>15</td>\n",
       "      <td>12</td>\n",
       "    </tr>\n",
       "    <tr>\n",
       "      <th>3</th>\n",
       "      <td>3</td>\n",
       "      <td>5</td>\n",
       "    </tr>\n",
       "    <tr>\n",
       "      <th>4</th>\n",
       "      <td>35</td>\n",
       "      <td>3</td>\n",
       "    </tr>\n",
       "  </tbody>\n",
       "</table>\n",
       "</div>"
      ],
      "text/plain": [
       "dep_delayed_15min    0    1\n",
       "Dep_hour                   \n",
       "0                  145  192\n",
       "1                   30   46\n",
       "2                   15   12\n",
       "3                    3    5\n",
       "4                   35    3"
      ]
     },
     "execution_count": 14,
     "metadata": {},
     "output_type": "execute_result"
    }
   ],
   "source": [
    "df_t = pd.crosstab(train.Dep_hour,train.dep_delayed_15min)\n",
    "df_t.head()"
   ]
  },
  {
   "cell_type": "code",
   "execution_count": 15,
   "id": "642ab935",
   "metadata": {},
   "outputs": [
    {
     "data": {
      "image/png": "[encoded data removed]",
      "text/plain": [
       "<Figure size 1000x600 with 1 Axes>"
      ]
     },
     "metadata": {},
     "output_type": "display_data"
    }
   ],
   "source": [
    "import matplotlib.pyplot as plt\n",
    "\n",
    "# Assuming df_t is your DataFrame and it is already defined\n",
    "# df_t should have columns 'N' and 'Y', and an index for x-axis\n",
    "\n",
    "plt.figure(figsize=(10, 6))\n",
    "\n",
    "# Plotting 'No Delay' trace\n",
    "plt.plot(df_t.index, df_t[0], marker='o', linestyle='-', label='No Delay')\n",
    "\n",
    "# Plotting 'Delays' trace\n",
    "plt.plot(df_t.index, df_t[1], marker='o', linestyle='-', label='Delays')\n",
    "\n",
    "# Adding title and labels\n",
    "plt.title('Departure Hour and Delay')\n",
    "plt.xlabel('Index')  # You can change 'Index' to the appropriate x-axis label\n",
    "plt.ylabel('Values')  # You can change 'Values' to the appropriate y-axis label\n",
    "\n",
    "# Adding legend\n",
    "plt.legend()\n",
    "\n",
    "# Display the plot\n",
    "plt.show()\n"
   ]
  },
  {
   "cell_type": "code",
   "execution_count": 16,
   "id": "5b3fa161",
   "metadata": {},
   "outputs": [
    {
     "data": {
      "image/png": "[encoded data removed]",
      "text/plain": [
       "<Figure size 1000x600 with 1 Axes>"
      ]
     },
     "metadata": {},
     "output_type": "display_data"
    }
   ],
   "source": [
    "import pandas as pd\n",
    "import matplotlib.pyplot as plt\n",
    "import seaborn as sns\n",
    "\n",
    "def calculate_seasonal_delay_percentages(df):\n",
    "    seasons = ['summer', 'autumn', 'winter', 'spring']\n",
    "    delay_percentages = []\n",
    "\n",
    "    for season in seasons:\n",
    "        season_df = df[df[season]]\n",
    "        delay_percentage = season_df['dep_delayed_15min'].mean() * 100  # Convert to percentage\n",
    "        delay_percentages.append(delay_percentage)\n",
    "    \n",
    "    return pd.DataFrame({'Season': seasons, 'Delay_Percentage': delay_percentages})\n",
    "\n",
    "def plot_seasonal_delays(delay_percentages_df):\n",
    "    plt.figure(figsize=(10, 6))\n",
    "    sns.barplot(x='Season', y='Delay_Percentage', data=delay_percentages_df, palette='viridis')\n",
    "    plt.title('Percentage of Flights Delayed by 15 Minutes or More by Season')\n",
    "    plt.xlabel('Season')\n",
    "    plt.ylabel('Percentage of Delayed Flights')\n",
    "    plt.show()\n",
    "\n",
    "# Example usage:\n",
    "# Assuming `df` is your DataFrame\n",
    "delay_percentages_df = calculate_seasonal_delay_percentages(train)\n",
    "plot_seasonal_delays(delay_percentages_df)\n"
   ]
  },
  {
   "cell_type": "code",
   "execution_count": 17,
   "id": "d17bb05c",
   "metadata": {},
   "outputs": [
    {
     "data": {
      "image/png": "[encoded data removed]",
      "text/plain": [
       "<Figure size 1000x600 with 1 Axes>"
      ]
     },
     "metadata": {},
     "output_type": "display_data"
    }
   ],
   "source": [
    "def calculate_distance_bin_delay_percentages(df):\n",
    "    distance_bins = ['vshort', 'short', 'mid', 'midlong', 'long', 'vlong']\n",
    "    delay_percentages = []\n",
    "\n",
    "    for distance_bin in distance_bins:\n",
    "        bin_df = df[df['Dist_bin'] == distance_bin]\n",
    "        delay_percentage = bin_df['dep_delayed_15min'].mean() * 100  # Convert to percentage\n",
    "        delay_percentages.append(delay_percentage)\n",
    "    \n",
    "    return pd.DataFrame({'DistanceBin': distance_bins, 'Delay_Percentage': delay_percentages})\n",
    "\n",
    "def plot_distance_bin_delays(delay_percentages_df):\n",
    "    plt.figure(figsize=(10, 6))\n",
    "    sns.barplot(x='DistanceBin', y='Delay_Percentage', data=delay_percentages_df, palette='viridis')\n",
    "    plt.title('Percentage of Flights Delayed by 15 Minutes or More by Distance Bin')\n",
    "    plt.xlabel('Distance Bin')\n",
    "    plt.ylabel('Percentage of Delayed Flights')\n",
    "    plt.show()\n",
    "\n",
    "# Example usage:\n",
    "# Assuming `df` is your DataFrame\n",
    "distance_bin_delay_percentages_df = calculate_distance_bin_delay_percentages(train)\n",
    "plot_distance_bin_delays(distance_bin_delay_percentages_df)\n"
   ]
  },
  {
   "cell_type": "code",
   "execution_count": 18,
   "id": "46b5585c",
   "metadata": {},
   "outputs": [
    {
     "data": {
      "image/png": "[encoded data removed]",
      "text/plain": [
       "<Figure size 1000x600 with 1 Axes>"
      ]
     },
     "metadata": {},
     "output_type": "display_data"
    }
   ],
   "source": [
    "import pandas as pd\n",
    "import matplotlib.pyplot as plt\n",
    "import seaborn as sns\n",
    "\n",
    "def calculate_time_of_day_delay_percentages(df):\n",
    "    time_bins = ['Night', 'Morning', 'Afternoon', 'Evening']\n",
    "    delay_percentages = []\n",
    "\n",
    "    for time_bin in time_bins:\n",
    "        bin_df = df[df['DepTime_bin'] == time_bin]\n",
    "        delay_percentage = bin_df['dep_delayed_15min'].mean() * 100  # Convert to percentage\n",
    "        delay_percentages.append(delay_percentage)\n",
    "    \n",
    "    return pd.DataFrame({'TimeOfDay': time_bins, 'Delay_Percentage': delay_percentages})\n",
    "\n",
    "def plot_time_of_day_delays(delay_percentages_df):\n",
    "    plt.figure(figsize=(10, 6))\n",
    "    sns.barplot(x='TimeOfDay', y='Delay_Percentage', data=delay_percentages_df, palette='viridis')\n",
    "    plt.title('Percentage of Flights Delayed by 15 Minutes or More by Time of Day')\n",
    "    plt.xlabel('Time of Day')\n",
    "    plt.ylabel('Percentage of Delayed Flights')\n",
    "    plt.show()\n",
    "\n",
    "# Example usage:\n",
    "# Assuming `df` is your DataFrame\n",
    "time_of_day_delay_percentages_df = calculate_time_of_day_delay_percentages(train)\n",
    "plot_time_of_day_delays(time_of_day_delay_percentages_df)\n"
   ]
  },
  {
   "cell_type": "code",
   "execution_count": 19,
   "id": "93b7e180",
   "metadata": {
    "execution": {
     "iopub.execute_input": "2023-09-10T01:32:50.807414Z",
     "iopub.status.busy": "2023-09-10T01:32:50.805621Z",
     "iopub.status.idle": "2023-09-10T01:32:50.823608Z",
     "shell.execute_reply": "2023-09-10T01:32:50.822734Z"
    },
    "papermill": {
     "duration": 0.030122,
     "end_time": "2023-09-10T01:32:50.825629",
     "exception": false,
     "start_time": "2023-09-10T01:32:50.795507",
     "status": "completed"
    },
    "tags": []
   },
   "outputs": [],
   "source": [
    "X = train.drop(['dep_delayed_15min'],axis=1)\n",
    "y = train['dep_delayed_15min']"
   ]
  },
  {
   "cell_type": "code",
   "execution_count": 20,
   "id": "1eea266c",
   "metadata": {
    "execution": {
     "iopub.execute_input": "2023-09-10T01:32:50.844983Z",
     "iopub.status.busy": "2023-09-10T01:32:50.844703Z",
     "iopub.status.idle": "2023-09-10T01:32:50.850208Z",
     "shell.execute_reply": "2023-09-10T01:32:50.849352Z"
    },
    "papermill": {
     "duration": 0.01744,
     "end_time": "2023-09-10T01:32:50.852150",
     "exception": false,
     "start_time": "2023-09-10T01:32:50.834710",
     "status": "completed"
    },
    "tags": []
   },
   "outputs": [
    {
     "data": {
      "text/plain": [
       "(100000, 23)"
      ]
     },
     "execution_count": 20,
     "metadata": {},
     "output_type": "execute_result"
    }
   ],
   "source": [
    "train.shape"
   ]
  },
  {
   "cell_type": "markdown",
   "id": "b3770dc0",
   "metadata": {
    "papermill": {
     "duration": 0.008811,
     "end_time": "2023-09-10T01:32:50.870123",
     "exception": false,
     "start_time": "2023-09-10T01:32:50.861312",
     "status": "completed"
    },
    "tags": []
   },
   "source": [
    "Understanding the pairplot between all the parameters with dep_delayed_15min"
   ]
  },
  {
   "cell_type": "code",
   "execution_count": 21,
   "id": "2c2aa461",
   "metadata": {
    "execution": {
     "iopub.execute_input": "2023-09-10T01:32:50.890092Z",
     "iopub.status.busy": "2023-09-10T01:32:50.889362Z",
     "iopub.status.idle": "2023-09-10T01:35:44.476561Z",
     "shell.execute_reply": "2023-09-10T01:35:44.475362Z"
    },
    "papermill": {
     "duration": 173.644812,
     "end_time": "2023-09-10T01:35:44.524132",
     "exception": false,
     "start_time": "2023-09-10T01:32:50.879320",
     "status": "completed"
    },
    "tags": []
   },
   "outputs": [],
   "source": [
    "#sns.pairplot(train,hue = 'dep_delayed_15min')"
   ]
  },
  {
   "cell_type": "markdown",
   "id": "8db163f4",
   "metadata": {
    "papermill": {
     "duration": 0.02859,
     "end_time": "2023-09-10T01:35:44.579592",
     "exception": false,
     "start_time": "2023-09-10T01:35:44.551002",
     "status": "completed"
    },
    "tags": []
   },
   "source": [
    "Now the pairplot clearly insit that any linear classification will be useless, because of high overlaps. ALgortihms like RandomForestRegressor will be efficient. However, in this notebook we will stick towards developing Artificial Neural Network"
   ]
  },
  {
   "cell_type": "code",
   "execution_count": 22,
   "id": "626128a2",
   "metadata": {
    "execution": {
     "iopub.execute_input": "2023-09-10T01:35:44.641528Z",
     "iopub.status.busy": "2023-09-10T01:35:44.641134Z",
     "iopub.status.idle": "2023-09-10T01:35:45.169017Z",
     "shell.execute_reply": "2023-09-10T01:35:45.167954Z"
    },
    "papermill": {
     "duration": 0.563637,
     "end_time": "2023-09-10T01:35:45.171677",
     "exception": false,
     "start_time": "2023-09-10T01:35:44.608040",
     "status": "completed"
    },
    "tags": []
   },
   "outputs": [],
   "source": [
    "scaler = StandardScaler()\n",
    "X_scaled = scaler.fit_transform(X)\n",
    "test_scaled = scaler.fit_transform(test)"
   ]
  },
  {
   "cell_type": "markdown",
   "id": "46a7af73",
   "metadata": {
    "papermill": {
     "duration": 0.027534,
     "end_time": "2023-09-10T01:35:45.226755",
     "exception": false,
     "start_time": "2023-09-10T01:35:45.199221",
     "status": "completed"
    },
    "tags": []
   },
   "source": [
    "After scaling the data we can feed this into a deep leaning model"
   ]
  },
  {
   "cell_type": "code",
   "execution_count": 23,
   "id": "5de9f1d2",
   "metadata": {
    "execution": {
     "iopub.execute_input": "2023-09-10T01:35:45.285501Z",
     "iopub.status.busy": "2023-09-10T01:35:45.284488Z",
     "iopub.status.idle": "2023-09-10T01:35:50.349998Z",
     "shell.execute_reply": "2023-09-10T01:35:50.348976Z"
    },
    "papermill": {
     "duration": 5.098111,
     "end_time": "2023-09-10T01:35:50.353245",
     "exception": false,
     "start_time": "2023-09-10T01:35:45.255134",
     "status": "completed"
    },
    "tags": []
   },
   "outputs": [
    {
     "name": "stdout",
     "output_type": "stream",
     "text": [
      "Model: \"sequential\"\n",
      "_________________________________________________________________\n",
      " Layer (type)                Output Shape              Param #   \n",
      "=================================================================\n",
      " dense (Dense)               (None, 128)               2944      \n",
      "                                                                 \n",
      " dropout (Dropout)           (None, 128)               0         \n",
      "                                                                 \n",
      " dense_1 (Dense)             (None, 128)               16512     \n",
      "                                                                 \n",
      " dropout_1 (Dropout)         (None, 128)               0         \n",
      "                                                                 \n",
      " dense_2 (Dense)             (None, 64)                8256      \n",
      "                                                                 \n",
      " dropout_2 (Dropout)         (None, 64)                0         \n",
      "                                                                 \n",
      " dense_3 (Dense)             (None, 1)                 65        \n",
      "                                                                 \n",
      "=================================================================\n",
      "Total params: 27777 (108.50 KB)\n",
      "Trainable params: 27777 (108.50 KB)\n",
      "Non-trainable params: 0 (0.00 Byte)\n",
      "_________________________________________________________________\n"
     ]
    }
   ],
   "source": [
    "model = None\n",
    "model = keras.Sequential([\n",
    "    layers.Input(shape=(22,)),\n",
    "    layers.Dense(128, activation='relu', kernel_regularizer=keras.regularizers.l2(0.001)),\n",
    "    layers.Dropout(0.3),\n",
    "    layers.Dense(128, activation='relu', kernel_regularizer=keras.regularizers.l2(0.001)),\n",
    "    layers.Dropout(0.3),\n",
    "    layers.Dense(64, activation='relu', kernel_regularizer=keras.regularizers.l2(0.001)),\n",
    "    layers.Dropout(0.3),\n",
    "    layers.Dense(1, activation='sigmoid')\n",
    "])\n",
    "\n",
    "\n",
    "optimizer = keras.optimizers.Adam(learning_rate=0.001)\n",
    "\n",
    "model.compile(optimizer = optimizer,loss = 'binary_crossentropy', metrics = ['accuracy'])\n",
    "\n",
    "#explaining the model\n",
    "model.summary()\n"
   ]
  },
  {
   "cell_type": "code",
   "execution_count": 29,
   "id": "1aeec47e",
   "metadata": {
    "execution": {
     "iopub.execute_input": "2023-09-10T01:35:50.443978Z",
     "iopub.status.busy": "2023-09-10T01:35:50.443601Z",
     "iopub.status.idle": "2023-09-10T01:36:28.388699Z",
     "shell.execute_reply": "2023-09-10T01:36:28.387622Z"
    },
    "papermill": {
     "duration": 37.99329,
     "end_time": "2023-09-10T01:36:28.391182",
     "exception": false,
     "start_time": "2023-09-10T01:35:50.397892",
     "status": "completed"
    },
    "tags": []
   },
   "outputs": [
    {
     "name": "stdout",
     "output_type": "stream",
     "text": [
      "Epoch 1/30\n",
      "500/500 [==============================] - 6s 9ms/step - loss: 0.4556 - accuracy: 0.8099 - val_loss: 0.4544 - val_accuracy: 0.8089\n",
      "Epoch 2/30\n",
      "500/500 [==============================] - 4s 9ms/step - loss: 0.4555 - accuracy: 0.8098 - val_loss: 0.4543 - val_accuracy: 0.8090\n",
      "Epoch 3/30\n",
      "500/500 [==============================] - 4s 9ms/step - loss: 0.4551 - accuracy: 0.8105 - val_loss: 0.4533 - val_accuracy: 0.8090\n",
      "Epoch 4/30\n",
      "500/500 [==============================] - 4s 8ms/step - loss: 0.4549 - accuracy: 0.8103 - val_loss: 0.4538 - val_accuracy: 0.8100\n",
      "Epoch 5/30\n",
      "500/500 [==============================] - 4s 8ms/step - loss: 0.4555 - accuracy: 0.8099 - val_loss: 0.4537 - val_accuracy: 0.8108\n",
      "Epoch 6/30\n",
      "500/500 [==============================] - 4s 9ms/step - loss: 0.4548 - accuracy: 0.8103 - val_loss: 0.4530 - val_accuracy: 0.8094\n",
      "Epoch 7/30\n",
      "500/500 [==============================] - 5s 10ms/step - loss: 0.4551 - accuracy: 0.8104 - val_loss: 0.4543 - val_accuracy: 0.8089\n",
      "Epoch 8/30\n",
      "500/500 [==============================] - 4s 8ms/step - loss: 0.4548 - accuracy: 0.8105 - val_loss: 0.4526 - val_accuracy: 0.8095\n",
      "Epoch 9/30\n",
      "500/500 [==============================] - 4s 8ms/step - loss: 0.4552 - accuracy: 0.8104 - val_loss: 0.4530 - val_accuracy: 0.8093\n",
      "Epoch 10/30\n",
      "500/500 [==============================] - 4s 8ms/step - loss: 0.4543 - accuracy: 0.8104 - val_loss: 0.4532 - val_accuracy: 0.8100\n",
      "Epoch 11/30\n",
      "500/500 [==============================] - 4s 8ms/step - loss: 0.4551 - accuracy: 0.8100 - val_loss: 0.4524 - val_accuracy: 0.8091\n",
      "Epoch 12/30\n",
      "500/500 [==============================] - 4s 9ms/step - loss: 0.4546 - accuracy: 0.8103 - val_loss: 0.4546 - val_accuracy: 0.8096\n",
      "Epoch 13/30\n",
      "500/500 [==============================] - 5s 10ms/step - loss: 0.4543 - accuracy: 0.8103 - val_loss: 0.4524 - val_accuracy: 0.8099\n",
      "Epoch 14/30\n",
      "500/500 [==============================] - 4s 8ms/step - loss: 0.4547 - accuracy: 0.8103 - val_loss: 0.4526 - val_accuracy: 0.8089\n",
      "Epoch 15/30\n",
      "500/500 [==============================] - 4s 9ms/step - loss: 0.4549 - accuracy: 0.8100 - val_loss: 0.4530 - val_accuracy: 0.8094\n",
      "Epoch 16/30\n",
      "500/500 [==============================] - 4s 8ms/step - loss: 0.4552 - accuracy: 0.8101 - val_loss: 0.4530 - val_accuracy: 0.8090\n",
      "Epoch 17/30\n",
      "500/500 [==============================] - 4s 8ms/step - loss: 0.4538 - accuracy: 0.8106 - val_loss: 0.4526 - val_accuracy: 0.8112\n",
      "Epoch 18/30\n",
      "500/500 [==============================] - 4s 8ms/step - loss: 0.4544 - accuracy: 0.8103 - val_loss: 0.4512 - val_accuracy: 0.8111\n",
      "Epoch 19/30\n",
      "500/500 [==============================] - 4s 8ms/step - loss: 0.4542 - accuracy: 0.8105 - val_loss: 0.4549 - val_accuracy: 0.8091\n",
      "Epoch 20/30\n",
      "500/500 [==============================] - 4s 9ms/step - loss: 0.4539 - accuracy: 0.8105 - val_loss: 0.4526 - val_accuracy: 0.8099\n",
      "Epoch 21/30\n",
      "500/500 [==============================] - 5s 10ms/step - loss: 0.4543 - accuracy: 0.8104 - val_loss: 0.4544 - val_accuracy: 0.8090\n",
      "Epoch 22/30\n",
      "500/500 [==============================] - 5s 9ms/step - loss: 0.4540 - accuracy: 0.8100 - val_loss: 0.4530 - val_accuracy: 0.8090\n",
      "Epoch 23/30\n",
      "500/500 [==============================] - 4s 8ms/step - loss: 0.4539 - accuracy: 0.8107 - val_loss: 0.4526 - val_accuracy: 0.8098\n",
      "Epoch 24/30\n",
      "500/500 [==============================] - 4s 9ms/step - loss: 0.4539 - accuracy: 0.8106 - val_loss: 0.4528 - val_accuracy: 0.8095\n",
      "Epoch 25/30\n",
      "500/500 [==============================] - 4s 8ms/step - loss: 0.4538 - accuracy: 0.8102 - val_loss: 0.4525 - val_accuracy: 0.8111\n",
      "Epoch 26/30\n",
      "500/500 [==============================] - 4s 9ms/step - loss: 0.4546 - accuracy: 0.8105 - val_loss: 0.4531 - val_accuracy: 0.8103\n",
      "Epoch 27/30\n",
      "500/500 [==============================] - 4s 8ms/step - loss: 0.4537 - accuracy: 0.8111 - val_loss: 0.4525 - val_accuracy: 0.8102\n",
      "Epoch 28/30\n",
      "500/500 [==============================] - 4s 8ms/step - loss: 0.4538 - accuracy: 0.8107 - val_loss: 0.4506 - val_accuracy: 0.8094\n",
      "Epoch 29/30\n",
      "500/500 [==============================] - 4s 9ms/step - loss: 0.4539 - accuracy: 0.8104 - val_loss: 0.4519 - val_accuracy: 0.8093\n",
      "Epoch 30/30\n",
      "500/500 [==============================] - 4s 8ms/step - loss: 0.4538 - accuracy: 0.8109 - val_loss: 0.4519 - val_accuracy: 0.8094\n"
     ]
    }
   ],
   "source": [
    "history = model.fit(X_scaled, y, epochs=30, batch_size=150, validation_split=0.25, shuffle=True)"
   ]
  },
  {
   "cell_type": "code",
   "execution_count": 30,
   "id": "60276381",
   "metadata": {},
   "outputs": [
    {
     "data": {
      "image/png": "[encoded data removed]",
      "text/plain": [
       "<Figure size 640x480 with 1 Axes>"
      ]
     },
     "metadata": {},
     "output_type": "display_data"
    },
    {
     "data": {
      "image/png": "[encoded data removed]",
      "text/plain": [
       "<Figure size 640x480 with 1 Axes>"
      ]
     },
     "metadata": {},
     "output_type": "display_data"
    }
   ],
   "source": [
    "import matplotlib.pyplot as plt\n",
    "\n",
    "# Plot training & validation accuracy values\n",
    "plt.plot(history.history['accuracy'])\n",
    "plt.plot(history.history['val_accuracy'])\n",
    "plt.title('Model accuracy')\n",
    "plt.xlabel('Epoch')\n",
    "plt.ylabel('Accuracy')\n",
    "plt.legend(['Train', 'Validation'], loc='upper left')\n",
    "plt.show()\n",
    "\n",
    "# Plot training & validation loss values\n",
    "plt.plot(history.history['loss'])\n",
    "plt.plot(history.history['val_loss'])\n",
    "plt.title('Model loss')\n",
    "plt.xlabel('Epoch')\n",
    "plt.ylabel('Loss')\n",
    "plt.legend(['Train', 'Validation'], loc='upper left')\n",
    "plt.show()\n"
   ]
  },
  {
   "cell_type": "code",
   "execution_count": 31,
   "id": "ff252cc6",
   "metadata": {
    "execution": {
     "iopub.execute_input": "2023-09-10T01:36:28.572741Z",
     "iopub.status.busy": "2023-09-10T01:36:28.572343Z",
     "iopub.status.idle": "2023-09-10T01:36:35.587456Z",
     "shell.execute_reply": "2023-09-10T01:36:35.586381Z"
    },
    "papermill": {
     "duration": 7.086058,
     "end_time": "2023-09-10T01:36:35.589927",
     "exception": false,
     "start_time": "2023-09-10T01:36:28.503869",
     "status": "completed"
    },
    "tags": []
   },
   "outputs": [
    {
     "name": "stdout",
     "output_type": "stream",
     "text": [
      "3125/3125 [==============================] - 6s 2ms/step\n"
     ]
    }
   ],
   "source": [
    "pred = model.predict(test_scaled)"
   ]
  },
  {
   "cell_type": "code",
   "execution_count": null,
   "id": "da4e21d8",
   "metadata": {},
   "outputs": [],
   "source": []
  },
  {
   "cell_type": "markdown",
   "id": "8b1af65b",
   "metadata": {
    "papermill": {
     "duration": 0.077721,
     "end_time": "2023-09-10T01:36:35.744079",
     "exception": false,
     "start_time": "2023-09-10T01:36:35.666358",
     "status": "completed"
    },
    "tags": []
   },
   "source": [
    "Score will be around 0.69"
   ]
  },
  {
   "cell_type": "code",
   "execution_count": 32,
   "id": "e83f7fc0",
   "metadata": {
    "execution": {
     "iopub.execute_input": "2023-09-10T01:36:35.895601Z",
     "iopub.status.busy": "2023-09-10T01:36:35.895210Z",
     "iopub.status.idle": "2023-09-10T01:36:36.210601Z",
     "shell.execute_reply": "2023-09-10T01:36:36.209320Z"
    },
    "papermill": {
     "duration": 0.392978,
     "end_time": "2023-09-10T01:36:36.213148",
     "exception": false,
     "start_time": "2023-09-10T01:36:35.820170",
     "status": "completed"
    },
    "tags": []
   },
   "outputs": [
    {
     "data": {
      "text/html": [
       "<div>\n",
       "<style scoped>\n",
       "    .dataframe tbody tr th:only-of-type {\n",
       "        vertical-align: middle;\n",
       "    }\n",
       "\n",
       "    .dataframe tbody tr th {\n",
       "        vertical-align: top;\n",
       "    }\n",
       "\n",
       "    .dataframe thead th {\n",
       "        text-align: right;\n",
       "    }\n",
       "</style>\n",
       "<table border=\"1\" class=\"dataframe\">\n",
       "  <thead>\n",
       "    <tr style=\"text-align: right;\">\n",
       "      <th></th>\n",
       "      <th>id</th>\n",
       "      <th>dep_delayed_15min</th>\n",
       "    </tr>\n",
       "  </thead>\n",
       "  <tbody>\n",
       "    <tr>\n",
       "      <th>0</th>\n",
       "      <td>0</td>\n",
       "      <td>0.070441</td>\n",
       "    </tr>\n",
       "    <tr>\n",
       "      <th>1</th>\n",
       "      <td>1</td>\n",
       "      <td>0.074362</td>\n",
       "    </tr>\n",
       "    <tr>\n",
       "      <th>2</th>\n",
       "      <td>2</td>\n",
       "      <td>0.067053</td>\n",
       "    </tr>\n",
       "    <tr>\n",
       "      <th>3</th>\n",
       "      <td>3</td>\n",
       "      <td>0.208345</td>\n",
       "    </tr>\n",
       "    <tr>\n",
       "      <th>4</th>\n",
       "      <td>4</td>\n",
       "      <td>0.233608</td>\n",
       "    </tr>\n",
       "  </tbody>\n",
       "</table>\n",
       "</div>"
      ],
      "text/plain": [
       "   id  dep_delayed_15min\n",
       "0   0           0.070441\n",
       "1   1           0.074362\n",
       "2   2           0.067053\n",
       "3   3           0.208345\n",
       "4   4           0.233608"
      ]
     },
     "execution_count": 32,
     "metadata": {},
     "output_type": "execute_result"
    }
   ],
   "source": [
    "pred = pred.flatten()\n",
    "sub = pd.Series(pred,name = 'dep_delayed_15min')\n",
    "sub = sub.reset_index()\n",
    "sub.columns = ['id', 'dep_delayed_15min']\n",
    "sub.to_csv(\"sub.csv\",index = False)\n",
    "sub.head()"
   ]
  },
  {
   "cell_type": "markdown",
   "id": "d704577a",
   "metadata": {},
   "source": [
    "#A FAIRE pour tenter un meilleur score \n"
   ]
  },
  {
   "cell_type": "code",
   "execution_count": 33,
   "id": "99d738a6",
   "metadata": {},
   "outputs": [
    {
     "data": {
      "text/html": [
       "<div>\n",
       "<style scoped>\n",
       "    .dataframe tbody tr th:only-of-type {\n",
       "        vertical-align: middle;\n",
       "    }\n",
       "\n",
       "    .dataframe tbody tr th {\n",
       "        vertical-align: top;\n",
       "    }\n",
       "\n",
       "    .dataframe thead th {\n",
       "        text-align: right;\n",
       "    }\n",
       "</style>\n",
       "<table border=\"1\" class=\"dataframe\">\n",
       "  <thead>\n",
       "    <tr style=\"text-align: right;\">\n",
       "      <th></th>\n",
       "      <th>id</th>\n",
       "      <th>dep_delayed_15min</th>\n",
       "    </tr>\n",
       "  </thead>\n",
       "  <tbody>\n",
       "    <tr>\n",
       "      <th>0</th>\n",
       "      <td>0</td>\n",
       "      <td>0</td>\n",
       "    </tr>\n",
       "    <tr>\n",
       "      <th>1</th>\n",
       "      <td>1</td>\n",
       "      <td>0</td>\n",
       "    </tr>\n",
       "    <tr>\n",
       "      <th>2</th>\n",
       "      <td>2</td>\n",
       "      <td>0</td>\n",
       "    </tr>\n",
       "    <tr>\n",
       "      <th>3</th>\n",
       "      <td>3</td>\n",
       "      <td>0</td>\n",
       "    </tr>\n",
       "    <tr>\n",
       "      <th>4</th>\n",
       "      <td>4</td>\n",
       "      <td>0</td>\n",
       "    </tr>\n",
       "  </tbody>\n",
       "</table>\n",
       "</div>"
      ],
      "text/plain": [
       "   id  dep_delayed_15min\n",
       "0   0                  0\n",
       "1   1                  0\n",
       "2   2                  0\n",
       "3   3                  0\n",
       "4   4                  0"
      ]
     },
     "execution_count": 33,
     "metadata": {},
     "output_type": "execute_result"
    }
   ],
   "source": [
    "from catboost import CatBoostClassifier\n",
    "\n",
    "from sklearn.metrics import roc_auc_score\n",
    "\n",
    "model_ctb = CatBoostClassifier(iterations=3000, loss_function='Logloss',\n",
    "                               l2_leaf_reg=0.8, od_type='Iter',\n",
    "                               random_seed=17, silent=True)\n",
    "#model_ctb = GridSearchCV(model_ctb, {'learning_rate':[0.5, 0.1], 'n_estimators':[500, 1000]})\n",
    "model_ctb.fit(X_train, y_train.astype(int), cat_features=[2, 4, 5, 6, 7, 8, 9, 12, 13, 14, 15, 16, 17, 18, 19, 20])\n",
    "predictions = model_ctb.predict_proba(X_val)[:, 1]\n",
    "accuracy = roc_auc_score(y_val.astype(int), predictions)\n",
    "print('Accuracy Catboost: ', accuracy)\n"
   ]
  },
  {
   "cell_type": "code",
   "execution_count": null,
   "id": "560f050c",
   "metadata": {},
   "outputs": [],
   "source": [
    "model_ctb.fit(X, y.astype(int), cat_features=[2, 4, 5, 6, 7, 8, 9, 12, 13, 14, 15, 16, 17, 18, 19, 20])"
   ]
  },
  {
   "cell_type": "code",
   "execution_count": null,
   "id": "28c11c16",
   "metadata": {},
   "outputs": [],
   "source": [
    "predictions = model_ctb.predict_proba(new_test[feature_columns])[:, 1]\n"
   ]
  },
  {
   "cell_type": "code",
   "execution_count": null,
   "id": "c568c3f6",
   "metadata": {},
   "outputs": [],
   "source": [
    "submission = pd.DataFrame({'id':range(100000),'dep_delayed_15min':predictions})\n",
    "submission.head(900)"
   ]
  },
  {
   "cell_type": "code",
   "execution_count": null,
   "id": "99fdb7b5",
   "metadata": {},
   "outputs": [],
   "source": [
    "filename = 'flight_delay.csv'\n",
    "\n",
    "submission.to_csv(filename,index=False)\n",
    "\n",
    "print('Saved file: ' + filename)"
   ]
  }
 ],
 "metadata": {
  "kernelspec": {
   "display_name": "Python 3",
   "language": "python",
   "name": "python3"
  },
  "language_info": {
   "codemirror_mode": {
    "name": "ipython",
    "version": 3
   },
   "file_extension": ".py",
   "mimetype": "text/x-python",
   "name": "python",
   "nbconvert_exporter": "python",
   "pygments_lexer": "ipython3",
   "version": "3.11.7"
  },
  "papermill": {
   "default_parameters": {},
   "duration": 245.747088,
   "end_time": "2023-09-10T01:36:39.107806",
   "environment_variables": {},
   "exception": null,
   "input_path": "__notebook__.ipynb",
   "output_path": "__notebook__.ipynb",
   "parameters": {},
   "start_time": "2023-09-10T01:32:33.360718",
   "version": "2.4.0"
  }
 },
 "nbformat": 4,
 "nbformat_minor": 5
}
